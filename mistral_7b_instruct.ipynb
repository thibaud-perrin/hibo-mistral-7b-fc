{
  "cells": [
    {
      "cell_type": "markdown",
      "metadata": {
        "id": "view-in-github",
        "colab_type": "text"
      },
      "source": [
        "<a href=\"https://colab.research.google.com/github/thibaud-perrin/hibo-mistral-7b-fc/blob/main/mistral_7b_instruct.ipynb\" target=\"_parent\"><img src=\"https://colab.research.google.com/assets/colab-badge.svg\" alt=\"Open In Colab\"/></a>"
      ]
    },
    {
      "cell_type": "markdown",
      "metadata": {
        "id": "zEFcncTL4OqF"
      },
      "source": [
        "# 📖 hibo-mistral-7b-fc Training\n",
        "\n",
        "This notebook focuses on fine-tuning the model `mistralai/Mistral-7B-v0.1` into an instruct and function calling model named: `thibaud-perrin/hibo-mistral-7b-fc-vx`."
      ]
    },
    {
      "cell_type": "markdown",
      "metadata": {
        "id": "iCzuaiJ54FHS"
      },
      "source": [
        "## 📦 Installation of Required Packages\n",
        "\n",
        "First, we need to install the necessary packages to work with Hugging Face's transformers and datasets, as well as any other libraries required for our project. We'll use the `!pip install` command to install these packages. This ensures that our environment has all the tools we need for training and interacting with the model."
      ]
    },
    {
      "cell_type": "code",
      "execution_count": 1,
      "metadata": {
        "id": "4IEEzD_y98AS"
      },
      "outputs": [],
      "source": [
        "!pip install -q -U bitsandbytes transformers peft accelerate bitsandbytes\n",
        "# !pip install -q -U git+https://github.com/huggingface/transformers.git\n",
        "# !pip install -q -U git+https://github.com/huggingface/peft.git\n",
        "# !pip install -q -U git+https://github.com/huggingface/accelerate.git\n",
        "!pip install -q trl xformers wandb datasets einops sentencepiece"
      ]
    },
    {
      "cell_type": "markdown",
      "metadata": {
        "id": "TqcSPXYF4VGF"
      },
      "source": [
        "## 📚 Import of All Required Packages\n",
        "\n",
        "After installing the required packages, we'll import them into our Jupyter notebook. This includes importing libraries such as `transformers`, `datasets`, and any other utilities we need for processing data, training the model, and evaluating its performance."
      ]
    },
    {
      "cell_type": "code",
      "execution_count": 2,
      "metadata": {
        "id": "0FhkirIp4Vb5"
      },
      "outputs": [],
      "source": [
        "from transformers import AutoModelForCausalLM, AutoTokenizer, BitsAndBytesConfig,HfArgumentParser,TrainingArguments,pipeline, logging, TextStreamer\n",
        "from peft import LoraConfig, PeftModel, prepare_model_for_kbit_training, get_peft_model\n",
        "import os, torch, wandb, platform, warnings\n",
        "from datasets import load_dataset\n",
        "from trl import SFTTrainer\n",
        "from huggingface_hub import notebook_login, Repository, login\n",
        "from google.colab import userdata\n",
        "from google.colab import drive"
      ]
    },
    {
      "cell_type": "markdown",
      "source": [
        "## 🔄 Google Drive Mount\n",
        "\n",
        "To access and store large datasets or model files, we will mount Google Drive to our Colab environment. This allows us to seamlessly use files stored in Google Drive as if they were local files, making data management much easier."
      ],
      "metadata": {
        "id": "d6A9fsNBrNm-"
      }
    },
    {
      "cell_type": "code",
      "execution_count": 3,
      "metadata": {
        "id": "8KtRn3XjSHAN",
        "colab": {
          "base_uri": "https://localhost:8080/"
        },
        "outputId": "65c25fbb-ae98-407e-dea2-af97c77dfd4d"
      },
      "outputs": [
        {
          "output_type": "stream",
          "name": "stdout",
          "text": [
            "Mounted at /content/gdrive\n",
            "ln: failed to create symbolic link '/content/MistralNotebook/mistral-7b-instruct': File exists\n",
            "mistral-7b-instruct\t   results\t\t\t     thibaud-perrin\n",
            "mistral-7b-instruct.ipynb  test-hibo-mistral-7b-fc-vx.ipynb\n"
          ]
        }
      ],
      "source": [
        "drive.mount(\"/content/gdrive\")\n",
        "!ln -s \"/content/gdrive/MyDrive/Colab Notebooks/Projects/mistral-7b-instruct\" \"/content/MistralNotebook\"\n",
        "!ls \"./MistralNotebook\""
      ]
    },
    {
      "cell_type": "markdown",
      "metadata": {
        "id": "AY5c8PhT4cc7"
      },
      "source": [
        "## 🌐 Global Variables\n",
        "\n",
        "In this section, we'll define global variables for our project. These include the base model name (`mistralai/Mistral-7B-v0.1`), the new model name (`thibaud-perrin/hibo-mistral-7b-fc-vx`), the dataset name (`thibaud-perrin/hibo-function-calling-v1`), and any necessary authentication tokens or secrets required for accessing APIs or services."
      ]
    },
    {
      "cell_type": "code",
      "execution_count": 4,
      "metadata": {
        "id": "T7fJvHBZwwvj"
      },
      "outputs": [],
      "source": [
        "username = userdata.get('username')\n",
        "email = userdata.get('email')\n",
        "wandb_key = userdata.get('wandb_key')\n",
        "hugginface_token = userdata.get('hugginface_token')\n",
        "TRAINING = True\n",
        "SAVING = True\n",
        "N_DATA=77_001\n",
        "\n",
        "REPO_NAME = 'thibaud-perrin'\n",
        "MODEL_NAME = 'hibo-mistral-7b-fc-v1.3'"
      ]
    },
    {
      "cell_type": "code",
      "execution_count": 5,
      "metadata": {
        "id": "VTJZrF5w4dT6"
      },
      "outputs": [],
      "source": [
        "#Use a sharded model to fine-tune in the free version of Google Colab.\n",
        "base_model = \"mistralai/Mistral-7B-v0.1\" #bn22/Mistral-7B-Instruct-v0.1-sharded\n",
        "\n",
        "\n",
        "dataset_name, new_model = f\"{REPO_NAME}/hibo-function-calling-v1\", f\"{REPO_NAME}/{MODEL_NAME}\""
      ]
    },
    {
      "cell_type": "markdown",
      "metadata": {
        "id": "7v-uWETTwCN5"
      },
      "source": [
        "## 🔑 Login to Hugging Face\n",
        "\n",
        "We need to authenticate with the Hugging Face Hub to access models and datasets. This involves logging in using our Hugging Face credentials, which will allow us to push models to the Hub at the end of this notebook."
      ]
    },
    {
      "cell_type": "code",
      "execution_count": 6,
      "metadata": {
        "id": "BMekt5Z1rQAh",
        "colab": {
          "base_uri": "https://localhost:8080/"
        },
        "outputId": "5e694f8f-59e2-4f5a-83d6-c1ae5b44284c"
      },
      "outputs": [
        {
          "output_type": "stream",
          "name": "stdout",
          "text": [
            "Token will not been saved to git credential helper. Pass `add_to_git_credential=True` if you want to set the git credential as well.\n",
            "Token is valid (permission: write).\n",
            "Your token has been saved to /root/.cache/huggingface/token\n",
            "Login successful\n"
          ]
        }
      ],
      "source": [
        "login(token=hugginface_token)"
      ]
    },
    {
      "cell_type": "code",
      "execution_count": 7,
      "metadata": {
        "id": "e5_vs_iTwR1k"
      },
      "outputs": [],
      "source": [
        "!git config --global user.email \"$email\"\n",
        "!git config --global user.name \"$username\""
      ]
    },
    {
      "cell_type": "code",
      "execution_count": 8,
      "metadata": {
        "id": "4edmgjLQzHey"
      },
      "outputs": [],
      "source": [
        "# !git config user.name"
      ]
    },
    {
      "cell_type": "code",
      "execution_count": 9,
      "metadata": {
        "id": "CQGR4e2EzJ9s"
      },
      "outputs": [],
      "source": [
        "# !git config user.email"
      ]
    },
    {
      "cell_type": "markdown",
      "metadata": {
        "id": "bupLzq8J4gOf"
      },
      "source": [
        "## 📂 Loading the Dataset\n",
        "\n",
        "Here, we'll load the dataset `thibaud-perrin/hibo-function-calling-v1` from the Hugging Face Hub and select the train split."
      ]
    },
    {
      "cell_type": "code",
      "execution_count": 10,
      "metadata": {
        "id": "d-9DXmT_4gjN",
        "colab": {
          "base_uri": "https://localhost:8080/"
        },
        "outputId": "794c171b-7058-4b02-f48c-bd215484d1b9"
      },
      "outputs": [
        {
          "output_type": "stream",
          "name": "stderr",
          "text": [
            "/usr/local/lib/python3.10/dist-packages/huggingface_hub/utils/_token.py:88: UserWarning: \n",
            "The secret `HF_TOKEN` does not exist in your Colab secrets.\n",
            "To authenticate with the Hugging Face Hub, create a token in your settings tab (https://huggingface.co/settings/tokens), set it as secret in your Google Colab and restart your session.\n",
            "You will be able to reuse this secret in all of your notebooks.\n",
            "Please note that authentication is recommended but still optional to access public models or datasets.\n",
            "  warnings.warn(\n"
          ]
        }
      ],
      "source": [
        "# Loading a Gath_baize dataset\n",
        "dataset = load_dataset(dataset_name, split=\"train\")"
      ]
    },
    {
      "cell_type": "code",
      "source": [
        "# Example of a row\n",
        "dataset[\"chat\"][1]"
      ],
      "metadata": {
        "id": "fzenbCxgr8Va",
        "colab": {
          "base_uri": "https://localhost:8080/"
        },
        "outputId": "d167f8fc-32ac-458c-a491-afeb4bd3a0eb"
      },
      "execution_count": 11,
      "outputs": [
        {
          "output_type": "execute_result",
          "data": {
            "text/plain": [
              "[{'content': 'I was wondering about the topic of war crimes. Specifically, why was Winston Churchill never tried for war crimes, just because the allies won World War 2?',\n",
              "  'role': 'user'},\n",
              " {'content': 'Winston Churchill was not tried for war crimes mainly for two reasons. First, at the time, the concept of war crimes was not as well-established as it is now. Second, Churchill was seen as a hero in his own country and the Allied powers, which made it politically difficult to try him.',\n",
              "  'role': 'assistant'},\n",
              " {'content': \"But wasn't he responsible for making some questionable decisions during the war?\",\n",
              "  'role': 'user'},\n",
              " {'content': 'Yes, some of his decisions during the war were controversial, but Churchill argued that they were necessary to win the war. For example, he ordered the bombing of cities like Dresden and Hamburg, which resulted in significant civilian casualties.',\n",
              "  'role': 'assistant'},\n",
              " {'content': 'That sounds like it could be considered a war crime.',\n",
              "  'role': 'user'},\n",
              " {'content': \"Yes, it's possible that his decision to drop bombs on civilian populations could be considered a war crime by today's standards. However, at the time, military leaders were given a lot more leeway in terms of what they could do to win a war.\",\n",
              "  'role': 'assistant'},\n",
              " {'content': 'Were any other Allied leaders tried for war crimes after the war?',\n",
              "  'role': 'user'},\n",
              " {'content': 'Yes, some prominent figures were tried for war crimes after World War II, including German military leaders like Hermann Goering and Japanese political and military leaders like Hideki Tojo. However, none of the Allied leaders were ever tried for war crimes.',\n",
              "  'role': 'assistant'},\n",
              " {'content': \"That seems strange, doesn't it?\", 'role': 'user'},\n",
              " {'content': 'Yes, it does seem strange, but it reflects the political realities of the time. The Allied powers were eager to put the war behind them and move on to rebuilding their countries. Trying their own leaders for war crimes would have been a messy and politically explosive process, and they likely felt it was best to avoid it altogether.',\n",
              "  'role': 'assistant'}]"
            ]
          },
          "metadata": {},
          "execution_count": 11
        }
      ]
    },
    {
      "cell_type": "markdown",
      "metadata": {
        "id": "g736v1pG4oHl"
      },
      "source": [
        "## 🤖 Loading the Base Model (Mistral 7B)\n",
        "\n",
        "We'll load the pre-trained `mistralai/Mistral-7B-v0.1` model from Hugging Face. This model will serve as the starting point for our fine-tuning process, where we'll adapt it to our specific task of instruction and function calling."
      ]
    },
    {
      "cell_type": "code",
      "execution_count": 12,
      "metadata": {
        "id": "Mipv_3PC4pAz",
        "colab": {
          "base_uri": "https://localhost:8080/",
          "height": 49,
          "referenced_widgets": [
            "8bdf50d87dbe4321adfc2d69a5f65f29",
            "3ec943ff54cb4a62ad2953bc5c0b1138",
            "504a1d42944a4a2fbe6138384fcec2fe",
            "49fd7f084ba4415caeade2b8f7bc83c5",
            "71dbe721e3904edb9ddbdafa10fd3818",
            "ccae1e7f37194079a2fdb0df67328538",
            "ee4f19fbce4841f3a999a26aa6b0318f",
            "c8b6d2e79e3a4005b1106e942d9e5d84",
            "3c59578b87f34df3a932e5a864dad797",
            "6727839901da4fc6b283c28c764acf09",
            "aee98b5ebbf04e8ba66c6406aec37698"
          ]
        },
        "outputId": "e6236d54-20e1-481b-8ae0-7ccac5a45a4c"
      },
      "outputs": [
        {
          "output_type": "display_data",
          "data": {
            "text/plain": [
              "Loading checkpoint shards:   0%|          | 0/2 [00:00<?, ?it/s]"
            ],
            "application/vnd.jupyter.widget-view+json": {
              "version_major": 2,
              "version_minor": 0,
              "model_id": "8bdf50d87dbe4321adfc2d69a5f65f29"
            }
          },
          "metadata": {}
        }
      ],
      "source": [
        "bnb_config = BitsAndBytesConfig(\n",
        "    load_in_4bit= True,\n",
        "    bnb_4bit_quant_type= \"nf4\",\n",
        "    bnb_4bit_compute_dtype= torch.bfloat16,\n",
        "    bnb_4bit_use_double_quant= False,\n",
        ")\n",
        "model = AutoModelForCausalLM.from_pretrained(\n",
        "    base_model,\n",
        "    quantization_config=bnb_config,\n",
        "    device_map={\"\": 0}\n",
        ")\n",
        "model.config.use_cache = False # silence the warnings. Please re-enable for inference!\n",
        "model.config.pretraining_tp = 1\n",
        "model.gradient_checkpointing_enable()"
      ]
    },
    {
      "cell_type": "markdown",
      "metadata": {
        "id": "2lFVPiSX4qY9"
      },
      "source": [
        "## 🔤 Loading the Tokenizer\n",
        "\n",
        "The tokenizer responsible for converting text into a format understandable by the model will be loaded. This tokenizer must be compatible with the base model we're using."
      ]
    },
    {
      "cell_type": "code",
      "execution_count": 13,
      "metadata": {
        "id": "sMPAZxGV4sq8",
        "colab": {
          "base_uri": "https://localhost:8080/"
        },
        "outputId": "5deb6776-6e1d-439b-8786-c1fed7b92303"
      },
      "outputs": [
        {
          "output_type": "execute_result",
          "data": {
            "text/plain": [
              "(True, True)"
            ]
          },
          "metadata": {},
          "execution_count": 13
        }
      ],
      "source": [
        "# Load tokenizer\n",
        "tokenizer = AutoTokenizer.from_pretrained(base_model, trust_remote_code=True)\n",
        "# tokenizer.pad_token = tokenizer.eos_token #this is my mistake, because of the tokenizer set the eos_token attention mask as “0”. That is why my fine-tuned model, never stop\n",
        "tokenizer.pad_token = tokenizer.unk_token # instead, should replace by this\n",
        "tokenizer.padding_side = \"right\"\n",
        "tokenizer.add_eos_token = True\n",
        "tokenizer.add_bos_token, tokenizer.add_eos_token"
      ]
    },
    {
      "cell_type": "markdown",
      "metadata": {
        "id": "kYGfWXKDJl29"
      },
      "source": [
        "### ✍️ Adding a Custom Template to the Tokenizer\n",
        "\n",
        "To improve the model's understanding of our specific task, we'll add a custom template to the tokenizer. This involves defining a pattern or structure that the inputs to the model will follow, making it easier for the model to interpret the data."
      ]
    },
    {
      "cell_type": "code",
      "execution_count": 14,
      "metadata": {
        "id": "ZQVwEAjh9m0Z"
      },
      "outputs": [],
      "source": [
        "import textwrap\n",
        "\n",
        "template = \"\"\"\\\n",
        "{% if messages[0]['role'] == 'system' %}\\\n",
        "    {% set loop_messages = messages[1:] %}\\\n",
        "    {% set system_message = messages[0]['content'] %}\\\n",
        "{% elif false == true and not '<<SYS>>' in messages[0]['content'] %}\\\n",
        "    {% set loop_messages = messages %}\\\n",
        "    {% set system_message = 'You are a helpful, respectful and honest assistant. Always answer as helpfully as possible, while being safe. Your answers should not include any harmful, unethical, racist, sexist, toxic, dangerous, or illegal content. Please ensure that your responses are socially unbiased and positive in nature.\\n\\nIf a question does not make any sense, or is not factually coherent, explain why instead of answering something not correct. If you don\\\\'t know the answer to a question, please don\\\\'t share false information.' %}\\\n",
        "{% else %}\\\n",
        "    {% set loop_messages = messages %}\\\n",
        "    {% set system_message = false %}\\\n",
        "{% endif %}\\\n",
        "{% for message in loop_messages %}\\\n",
        "    {% if loop.index0 == 0 and system_message != false %}\\\n",
        "        {% set content = '<<SYS>>\\n' + system_message + '\\n<</SYS>>\\n\\n' + message['content'] %}\\\n",
        "    {% else %}\\\n",
        "        {% set content = message['content'] %}\\\n",
        "    {% endif %}\\\n",
        "    {% if message['role'] == 'user' %}\\\n",
        "      {% if loop.index0 == 0 and system_message != false %}\\\n",
        "          {{ bos_token + '[INST] ' + content.strip() + ' [/INST]' }}\\\n",
        "      {% else %}\\\n",
        "          {{ '[INST] ' + content.strip() + ' [/INST]' }}\\\n",
        "      {% endif %}\\\n",
        "    {% elif message['role'] == 'assistant' %}\\\n",
        "        {% if loop.last or loop_messages[loop.index0 + 1]['role'] != 'assistant' %}\n",
        "            {{ '[ASST] '  + content.strip() + ' [/ASST]' + eos_token }}\\\n",
        "        {% else %}\n",
        "            {{ '[ASST] '  + content.strip() + ' [/ASST]' }}\\\n",
        "        {% endif %}\n",
        "    {% elif message['role'] == 'function_response' %}\\\n",
        "        {{ '[FUNC] '  + content.strip() + ' [/FUNC]' }}\\\n",
        "    {% endif %}\\\n",
        "{% endfor %}\"\"\"\n",
        "tokenizer.chat_template = textwrap.dedent(template).replace('    ', '').strip()"
      ]
    },
    {
      "cell_type": "code",
      "source": [
        "# display the template to verify that it has been saved\n",
        "tokenizer.chat_template"
      ],
      "metadata": {
        "id": "sZLGhmqYskF5",
        "colab": {
          "base_uri": "https://localhost:8080/",
          "height": 174
        },
        "outputId": "5185a727-5ba0-4a8e-a4ce-f86de819f8e6"
      },
      "execution_count": 15,
      "outputs": [
        {
          "output_type": "execute_result",
          "data": {
            "text/plain": [
              "\"{% if messages[0]['role'] == 'system' %}{% set loop_messages = messages[1:] %}{% set system_message = messages[0]['content'] %}{% elif false == true and not '<<SYS>>' in messages[0]['content'] %}{% set loop_messages = messages %}{% set system_message = 'You are a helpful, respectful and honest assistant. Always answer as helpfully as possible, while being safe. Your answers should not include any harmful, unethical, racist, sexist, toxic, dangerous, or illegal content. Please ensure that your responses are socially unbiased and positive in nature.\\n\\nIf a question does not make any sense, or is not factually coherent, explain why instead of answering something not correct. If you don\\\\'t know the answer to a question, please don\\\\'t share false information.' %}{% else %}{% set loop_messages = messages %}{% set system_message = false %}{% endif %}{% for message in loop_messages %}{% if loop.index0 == 0 and system_message != false %}{% set content = '<<SYS>>\\n' + system_message + '\\n<</SYS>>\\n\\n' + message['content'] %}{% else %}{% set content = message['content'] %}{% endif %}{% if message['role'] == 'user' %}  {% if loop.index0 == 0 and system_message != false %}  {{ bos_token + '[INST] ' + content.strip() + ' [/INST]' }}  {% else %}  {{ '[INST] ' + content.strip() + ' [/INST]' }}  {% endif %}{% elif message['role'] == 'assistant' %}{% if loop.last or loop_messages[loop.index0 + 1]['role'] != 'assistant' %}\\n{{ '[ASST] '  + content.strip() + ' [/ASST]' + eos_token }}{% else %}\\n{{ '[ASST] '  + content.strip() + ' [/ASST]' }}{% endif %}\\n{% elif message['role'] == 'function_response' %}{{ '[FUNC] '  + content.strip() + ' [/FUNC]' }}{% endif %}{% endfor %}\""
            ],
            "application/vnd.google.colaboratory.intrinsic+json": {
              "type": "string"
            }
          },
          "metadata": {},
          "execution_count": 15
        }
      ]
    },
    {
      "cell_type": "markdown",
      "source": [
        "### ➕ Adding New Column to the Dataset\n",
        "\n",
        "Based on the custom template, we'll add a new column to our dataset. This column will contain the processed inputs that are ready to be fed into the model for training."
      ],
      "metadata": {
        "id": "bjgNBUuFskRv"
      }
    },
    {
      "cell_type": "code",
      "execution_count": 16,
      "metadata": {
        "id": "PEIq3C1jeeN_"
      },
      "outputs": [],
      "source": [
        "# Define a function to concatenate and apply the template\n",
        "def concatenate_and_transform(row):\n",
        "    # Concatenate 'system' and 'chat' lists\n",
        "    combined_list = row['system'] + row['chat']\n",
        "    # Apply the tokenizer.apply_chat_template function on the concatenated list\n",
        "    transformed_data = tokenizer.apply_chat_template(combined_list, tokenize=False, add_generation_prompt=False)\n",
        "    return {'chat_sample': transformed_data}"
      ]
    },
    {
      "cell_type": "code",
      "execution_count": 17,
      "metadata": {
        "id": "7ukWTnzFeuQ7"
      },
      "outputs": [],
      "source": [
        "dataset = dataset.map(concatenate_and_transform)\n",
        "# Select the first 200,000 rows after shuffling\n",
        "train_dataset = dataset.select(range(N_DATA))\n",
        "eval_dataset = dataset.select(range(N_DATA, N_DATA+176))"
      ]
    },
    {
      "cell_type": "code",
      "source": [
        "print(f\"raw dataset size={len(dataset)}\")\n",
        "print(f\"train dataset size={len(train_dataset)}\")\n",
        "print(f\"eval dataset size={len(eval_dataset)}\")"
      ],
      "metadata": {
        "colab": {
          "base_uri": "https://localhost:8080/"
        },
        "id": "-astuARojn8-",
        "outputId": "bbfdc49e-e25d-4ee4-ae44-29c2b65d8407"
      },
      "execution_count": 18,
      "outputs": [
        {
          "output_type": "stream",
          "name": "stdout",
          "text": [
            "raw dataset size=323271\n",
            "train dataset size=77001\n",
            "eval dataset size=176\n"
          ]
        }
      ]
    },
    {
      "cell_type": "code",
      "source": [
        "# example after adding the new column\n",
        "print(train_dataset['system'][35])\n",
        "print('--------------')\n",
        "print(train_dataset['chat'][35])\n",
        "print('--------------')\n",
        "print(train_dataset['chat_sample'][35])"
      ],
      "metadata": {
        "id": "p4CDyVVmtBPs",
        "colab": {
          "base_uri": "https://localhost:8080/"
        },
        "outputId": "9727a344-dd4d-4db6-f81a-0572039aaecd"
      },
      "execution_count": 19,
      "outputs": [
        {
          "output_type": "stream",
          "name": "stdout",
          "text": [
            "[{'content': 'You are a helpful assistant with access to the following functions. Use them if required -\\n{\\n    \"name\": \"get_stock_price\",\\n    \"description\": \"Get the current stock price of a company\",\\n    \"parameters\": {\\n        \"type\": \"object\",\\n        \"properties\": {\\n            \"company_name\": {\\n                \"type\": \"string\",\\n                \"description\": \"The name of the company\"\\n            },\\n            \"exchange\": {\\n                \"type\": \"string\",\\n                \"description\": \"The stock exchange where the company is listed\"\\n            }\\n        },\\n        \"required\": [\\n            \"company_name\",\\n            \"exchange\"\\n        ]\\n    }\\n}', 'role': 'system'}]\n",
            "--------------\n",
            "[{'content': 'Hi, can you tell me the current stock price of Apple on NASDAQ?', 'role': 'user'}, {'content': 'Sure, let me fetch that information for you.', 'role': 'assistant'}, {'content': '<functioncall> {\"name\": \"get_stock_price\", \"arguments\": \\'{\"company_name\": \"Apple\", \"exchange\": \"NASDAQ\"}\\'}', 'role': 'assistant'}, {'content': '{\"status\": \"success\", \"data\": {\"company_name\": \"Apple\", \"exchange\": \"NASDAQ\", \"stock_price\": \"145.09 USD\"}}', 'role': 'function_response'}, {'content': 'The current stock price of Apple on NASDAQ is 145.09 USD.', 'role': 'assistant'}, {'content': \"Great, thanks! Can you also order a pizza for me from Domino's?\", 'role': 'user'}, {'content': \"I'm sorry, but as an AI, I don't have the capability to perform external tasks such as ordering a pizza. I can provide information based on the functions available to me. Is there anything else you would like to know?\", 'role': 'assistant'}]\n",
            "--------------\n",
            "    <s>[INST] <<SYS>>\n",
            "You are a helpful assistant with access to the following functions. Use them if required -\n",
            "{\n",
            "    \"name\": \"get_stock_price\",\n",
            "    \"description\": \"Get the current stock price of a company\",\n",
            "    \"parameters\": {\n",
            "        \"type\": \"object\",\n",
            "        \"properties\": {\n",
            "            \"company_name\": {\n",
            "                \"type\": \"string\",\n",
            "                \"description\": \"The name of the company\"\n",
            "            },\n",
            "            \"exchange\": {\n",
            "                \"type\": \"string\",\n",
            "                \"description\": \"The stock exchange where the company is listed\"\n",
            "            }\n",
            "        },\n",
            "        \"required\": [\n",
            "            \"company_name\",\n",
            "            \"exchange\"\n",
            "        ]\n",
            "    }\n",
            "}\n",
            "<</SYS>>\n",
            "\n",
            "Hi, can you tell me the current stock price of Apple on NASDAQ? [/INST]  [ASST] Sure, let me fetch that information for you. [/ASST][ASST] <functioncall> {\"name\": \"get_stock_price\", \"arguments\": '{\"company_name\": \"Apple\", \"exchange\": \"NASDAQ\"}'} [/ASST]</s>[FUNC] {\"status\": \"success\", \"data\": {\"company_name\": \"Apple\", \"exchange\": \"NASDAQ\", \"stock_price\": \"145.09 USD\"}} [/FUNC][ASST] The current stock price of Apple on NASDAQ is 145.09 USD. [/ASST]</s>    [INST] Great, thanks! Can you also order a pizza for me from Domino's? [/INST]  [ASST] I'm sorry, but as an AI, I don't have the capability to perform external tasks such as ordering a pizza. I can provide information based on the functions available to me. Is there anything else you would like to know? [/ASST]</s>\n"
          ]
        }
      ]
    },
    {
      "cell_type": "markdown",
      "source": [
        "## 💪 Train the Model"
      ],
      "metadata": {
        "id": "xgs3LhWttRdN"
      }
    },
    {
      "cell_type": "markdown",
      "metadata": {
        "id": "QOIN_GrP4uIQ"
      },
      "source": [
        "### 📊 Login to Weights & Biases\n",
        "\n",
        "Weights & Biases (W&B) is a tool for tracking experiments, and we'll log in to it to monitor our model's training progress. This helps in visualizing metrics and comparing different training runs."
      ]
    },
    {
      "cell_type": "code",
      "execution_count": 20,
      "metadata": {
        "id": "LRd62P114t4o",
        "colab": {
          "base_uri": "https://localhost:8080/",
          "height": 193
        },
        "outputId": "ab44f8bd-f003-448e-ed4e-617858c9b01d"
      },
      "outputs": [
        {
          "output_type": "stream",
          "name": "stderr",
          "text": [
            "\u001b[34m\u001b[1mwandb\u001b[0m: Currently logged in as: \u001b[33mthibaud-perrin\u001b[0m. Use \u001b[1m`wandb login --relogin`\u001b[0m to force relogin\n",
            "\u001b[34m\u001b[1mwandb\u001b[0m: \u001b[33mWARNING\u001b[0m If you're specifying your api key in code, ensure this code is not shared publicly.\n",
            "\u001b[34m\u001b[1mwandb\u001b[0m: \u001b[33mWARNING\u001b[0m Consider setting the WANDB_API_KEY environment variable, or running `wandb login` from the command line.\n",
            "\u001b[34m\u001b[1mwandb\u001b[0m: Appending key for api.wandb.ai to your netrc file: /root/.netrc\n"
          ]
        },
        {
          "output_type": "display_data",
          "data": {
            "text/plain": [
              "<IPython.core.display.HTML object>"
            ],
            "text/html": [
              "Tracking run with wandb version 0.16.4"
            ]
          },
          "metadata": {}
        },
        {
          "output_type": "display_data",
          "data": {
            "text/plain": [
              "<IPython.core.display.HTML object>"
            ],
            "text/html": [
              "Run data is saved locally in <code>/content/wandb/run-20240309_093655-7vphr6vg</code>"
            ]
          },
          "metadata": {}
        },
        {
          "output_type": "display_data",
          "data": {
            "text/plain": [
              "<IPython.core.display.HTML object>"
            ],
            "text/html": [
              "Syncing run <strong><a href='https://wandb.ai/thibaud-perrin/Fine%20tuning%20mistral%207B%20for%20FC/runs/7vphr6vg' target=\"_blank\">denim-valley-29</a></strong> to <a href='https://wandb.ai/thibaud-perrin/Fine%20tuning%20mistral%207B%20for%20FC' target=\"_blank\">Weights & Biases</a> (<a href='https://wandb.me/run' target=\"_blank\">docs</a>)<br/>"
            ]
          },
          "metadata": {}
        },
        {
          "output_type": "display_data",
          "data": {
            "text/plain": [
              "<IPython.core.display.HTML object>"
            ],
            "text/html": [
              " View project at <a href='https://wandb.ai/thibaud-perrin/Fine%20tuning%20mistral%207B%20for%20FC' target=\"_blank\">https://wandb.ai/thibaud-perrin/Fine%20tuning%20mistral%207B%20for%20FC</a>"
            ]
          },
          "metadata": {}
        },
        {
          "output_type": "display_data",
          "data": {
            "text/plain": [
              "<IPython.core.display.HTML object>"
            ],
            "text/html": [
              " View run at <a href='https://wandb.ai/thibaud-perrin/Fine%20tuning%20mistral%207B%20for%20FC/runs/7vphr6vg' target=\"_blank\">https://wandb.ai/thibaud-perrin/Fine%20tuning%20mistral%207B%20for%20FC/runs/7vphr6vg</a>"
            ]
          },
          "metadata": {}
        }
      ],
      "source": [
        "if TRAINING:\n",
        "  wandb.login(key = wandb_key)\n",
        "  run = wandb.init(project='Fine tuning mistral 7B for FC', job_type=\"training\", anonymous=\"allow\")"
      ]
    },
    {
      "cell_type": "markdown",
      "source": [
        "### ⚙️ Init LoRA Config\n",
        "\n",
        "LoRA (Low-Rank Adaptation) is a technique for efficient model fine-tuning. We'll initialize the LoRA configuration, specifying any parameters needed to adapt the model to our task with minimal computational resources."
      ],
      "metadata": {
        "id": "2YHwpCQPtOhZ"
      }
    },
    {
      "cell_type": "code",
      "execution_count": 21,
      "metadata": {
        "id": "_t3DgXL54yDF"
      },
      "outputs": [],
      "source": [
        "if TRAINING:\n",
        "  model = prepare_model_for_kbit_training(model)\n",
        "  peft_config = LoraConfig(\n",
        "          r=16,\n",
        "          lora_alpha=16,\n",
        "          lora_dropout=0.05,\n",
        "          bias=\"none\",\n",
        "          task_type=\"CAUSAL_LM\",\n",
        "          target_modules=[\"q_proj\", \"k_proj\", \"v_proj\", \"o_proj\",\"gate_proj\"]\n",
        "      )\n",
        "  model = get_peft_model(model, peft_config)"
      ]
    },
    {
      "cell_type": "markdown",
      "metadata": {
        "id": "cJFN6mbp4ztA"
      },
      "source": [
        "### 🏋️ Init Training Arguments and SFTTrainer\n",
        "\n",
        "We'll initialize the training arguments, specifying details like the number of epochs, batch size, and learning rate. Then, we'll set up the `SFTTrainer` (Sparse Fine-Tuning Trainer) with these arguments to start the training process."
      ]
    },
    {
      "cell_type": "code",
      "execution_count": 22,
      "metadata": {
        "id": "nrbsQnQt40YT",
        "colab": {
          "base_uri": "https://localhost:8080/"
        },
        "outputId": "dececad2-a45a-4655-80b6-a1e08c6d1b5e"
      },
      "outputs": [
        {
          "output_type": "stream",
          "name": "stderr",
          "text": [
            "/usr/local/lib/python3.10/dist-packages/trl/trainer/sft_trainer.py:225: UserWarning: You didn't pass a `max_seq_length` argument to the SFTTrainer, this will default to 1024\n",
            "  warnings.warn(\n"
          ]
        }
      ],
      "source": [
        "if TRAINING:\n",
        "  # Training Arguments\n",
        "  # Hyperparameters should beadjusted based on the hardware you using\n",
        "  training_arguments = TrainingArguments(\n",
        "      output_dir= \"./MistralNotebook/results\",\n",
        "      resume_from_checkpoint=\"./MistralNotebook/results\",\n",
        "      num_train_epochs= 1,\n",
        "      per_device_train_batch_size= 22,\n",
        "      gradient_accumulation_steps= 2,\n",
        "      optim = \"paged_adamw_8bit\",\n",
        "      save_steps= 125,\n",
        "      evaluation_strategy=\"steps\", # Evaluate the model every logging step\n",
        "      eval_steps=125,              # Evaluate and save checkpoints every 50 steps\n",
        "      do_eval=True,                # Perform evaluation at the end of training\n",
        "      logging_steps= 30,\n",
        "      learning_rate= 2e-4,\n",
        "      weight_decay= 0.001,\n",
        "      fp16= False,\n",
        "      bf16= False,\n",
        "      max_grad_norm= 0.3,\n",
        "      max_steps= -1,\n",
        "      warmup_ratio= 0.3,\n",
        "      group_by_length= True,\n",
        "      lr_scheduler_type= \"constant\",\n",
        "      report_to=\"wandb\"\n",
        "  )\n",
        "  # Setting sft parameters\n",
        "  trainer = SFTTrainer(\n",
        "      model=model,\n",
        "      train_dataset=train_dataset,\n",
        "      eval_dataset=eval_dataset,\n",
        "      peft_config=peft_config,\n",
        "      max_seq_length= None,\n",
        "      dataset_text_field=\"chat_sample\",\n",
        "      tokenizer=tokenizer,\n",
        "      args=training_arguments,\n",
        "      packing= False,\n",
        "  )"
      ]
    },
    {
      "cell_type": "markdown",
      "source": [
        "### 🚀 Start Training, and Save the Model\n",
        "\n",
        "In this section, we'll start the training process using the data and configurations we've set up. After training, we'll save the fine-tuned model so it can be used for inference or further training in the future."
      ],
      "metadata": {
        "id": "j7gjGsRXtlcv"
      }
    },
    {
      "cell_type": "code",
      "execution_count": 23,
      "metadata": {
        "id": "1ob5QrCD42om",
        "colab": {
          "base_uri": "https://localhost:8080/",
          "height": 374,
          "referenced_widgets": [
            "e2e903a071674338b90b077b045d39d8",
            "2a2fbd49f25e406bb372b3fc42b3c9c6",
            "dc80b6ade7804359a427ac99c159f290",
            "10431968bcdd40eab455246b915c9aa4",
            "6ca7e93b3b9545d5a19a6083701cca69",
            "82a4604c61864cccb3b9e60f002e1ade",
            "8a9c2f34512f478392b273ec381da8d9",
            "f943ae2c5aa1475f8c3beeb66ae65d5d"
          ]
        },
        "outputId": "7c8f036b-07f5-4477-bd69-bacf83d8044a"
      },
      "outputs": [
        {
          "output_type": "display_data",
          "data": {
            "text/plain": [
              "<IPython.core.display.HTML object>"
            ],
            "text/html": [
              "\n",
              "    <div>\n",
              "      \n",
              "      <progress value='1750' max='1750' style='width:300px; height:20px; vertical-align: middle;'></progress>\n",
              "      [1750/1750 : < :, Epoch 0/1]\n",
              "    </div>\n",
              "    <table border=\"1\" class=\"dataframe\">\n",
              "  <thead>\n",
              " <tr style=\"text-align: left;\">\n",
              "      <th>Step</th>\n",
              "      <th>Training Loss</th>\n",
              "      <th>Validation Loss</th>\n",
              "    </tr>\n",
              "  </thead>\n",
              "  <tbody>\n",
              "  </tbody>\n",
              "</table><p>"
            ]
          },
          "metadata": {}
        },
        {
          "output_type": "display_data",
          "data": {
            "text/plain": [
              "VBox(children=(Label(value='0.002 MB of 0.002 MB uploaded\\r'), FloatProgress(value=1.0, max=1.0)))"
            ],
            "application/vnd.jupyter.widget-view+json": {
              "version_major": 2,
              "version_minor": 0,
              "model_id": "e2e903a071674338b90b077b045d39d8"
            }
          },
          "metadata": {}
        },
        {
          "output_type": "display_data",
          "data": {
            "text/plain": [
              "<IPython.core.display.HTML object>"
            ],
            "text/html": [
              "<style>\n",
              "    table.wandb td:nth-child(1) { padding: 0 10px; text-align: left ; width: auto;} td:nth-child(2) {text-align: left ; width: 100%}\n",
              "    .wandb-row { display: flex; flex-direction: row; flex-wrap: wrap; justify-content: flex-start; width: 100% }\n",
              "    .wandb-col { display: flex; flex-direction: column; flex-basis: 100%; flex: 1; padding: 10px; }\n",
              "    </style>\n",
              "<div class=\"wandb-row\"><div class=\"wandb-col\"><h3>Run history:</h3><br/><table class=\"wandb\"><tr><td>train/epoch</td><td>▁</td></tr><tr><td>train/global_step</td><td>▁</td></tr><tr><td>train/total_flos</td><td>▁</td></tr><tr><td>train/train_loss</td><td>▁</td></tr><tr><td>train/train_runtime</td><td>▁</td></tr><tr><td>train/train_samples_per_second</td><td>▁</td></tr><tr><td>train/train_steps_per_second</td><td>▁</td></tr></table><br/></div><div class=\"wandb-col\"><h3>Run summary:</h3><br/><table class=\"wandb\"><tr><td>train/epoch</td><td>1.0</td></tr><tr><td>train/global_step</td><td>1750</td></tr><tr><td>train/total_flos</td><td>1.282913545270444e+18</td></tr><tr><td>train/train_loss</td><td>0.0</td></tr><tr><td>train/train_runtime</td><td>0.1115</td></tr><tr><td>train/train_samples_per_second</td><td>690599.158</td></tr><tr><td>train/train_steps_per_second</td><td>15695.232</td></tr></table><br/></div></div>"
            ]
          },
          "metadata": {}
        },
        {
          "output_type": "display_data",
          "data": {
            "text/plain": [
              "<IPython.core.display.HTML object>"
            ],
            "text/html": [
              " View run <strong style=\"color:#cdcd00\">denim-valley-29</strong> at: <a href='https://wandb.ai/thibaud-perrin/Fine%20tuning%20mistral%207B%20for%20FC/runs/7vphr6vg' target=\"_blank\">https://wandb.ai/thibaud-perrin/Fine%20tuning%20mistral%207B%20for%20FC/runs/7vphr6vg</a><br/>Synced 5 W&B file(s), 0 media file(s), 0 artifact file(s) and 0 other file(s)"
            ]
          },
          "metadata": {}
        },
        {
          "output_type": "display_data",
          "data": {
            "text/plain": [
              "<IPython.core.display.HTML object>"
            ],
            "text/html": [
              "Find logs at: <code>./wandb/run-20240309_093655-7vphr6vg/logs</code>"
            ]
          },
          "metadata": {}
        }
      ],
      "source": [
        "if TRAINING:\n",
        "  trainer.train(resume_from_checkpoint=True)\n",
        "  # Save the fine-tuned model\n",
        "  trainer.model.save_pretrained(f\"./MistralNotebook/{new_model}\")\n",
        "  tokenizer.save_pretrained(f\"./MistralNotebook/{new_model}\")\n",
        "  wandb.finish()\n",
        "  model.config.use_cache = True\n",
        "  model.eval()"
      ]
    },
    {
      "cell_type": "markdown",
      "metadata": {
        "id": "HE4eBQbg43_3"
      },
      "source": [
        "## 🧪 Test the Model\n",
        "\n",
        "We'll evaluate the performance of our fine-tuned model on a test set or through specific examples to ensure it performs well on the task of instruction and function calling."
      ]
    },
    {
      "cell_type": "code",
      "execution_count": 24,
      "metadata": {
        "id": "XJGUOjxO44XY"
      },
      "outputs": [],
      "source": [
        "def stream(user_prompt, m, t):\n",
        "  runtimeFlag = \"cuda:0\"\n",
        "  system_prompt = \"\"\"You are a helpful assistant with access to the following functions. Use them if required -\n",
        "  {\n",
        "    \"name\": \"get_stock_price\",\n",
        "    \"description\": \"Get the current stock price of a company\",\n",
        "    \"parameters\": {\n",
        "        \"type\": \"object\",\n",
        "        \"properties\": {\n",
        "            \"company_name\": {\n",
        "                \"type\": \"string\",\n",
        "                \"description\": \"The name of the company\"\n",
        "            },\n",
        "            \"exchange\": {\n",
        "                \"type\": \"string\",\n",
        "                \"description\": \"The stock exchange where the company is listed\"\n",
        "            }\n",
        "        },\n",
        "        \"required\": [\n",
        "            \"company_name\",\n",
        "            \"exchange\"\n",
        "        ]\n",
        "    }\n",
        "  }\n",
        "  \"\"\"\n",
        "  messages = [\n",
        "    {\"role\": \"system\", \"content\": system_prompt},\n",
        "    {\"role\": \"user\", \"content\": user_prompt.strip()},\n",
        "    # {\"role\": \"assistant\", \"content\": \"\"\"<functioncall> {\"name\": \"get_stock_price\", \"arguments\": '{\"company_name\": \"Apple\", \"exchange\": \"NASDAQ\"}'}\"\"\"},\n",
        "    # {\"role\": \"function_response\", \"content\": \"\"\"{\"price\": \"3.75€\"}\"\"\"},\n",
        "  ]\n",
        "\n",
        "  transformed_data = t.apply_chat_template(messages, tokenize=False, add_generation_prompt=False)\n",
        "  print(transformed_data)\n",
        "  eos_token_id = t.eos_token_id\n",
        "  t.pad_token = t.unk_token\n",
        "  t.padding_side = \"right\"\n",
        "  inputs = t([transformed_data], return_tensors=\"pt\", add_special_tokens=True).to(runtimeFlag)\n",
        "  streamer = TextStreamer(t, skip_prompt=True, skip_special_tokens=False)\n",
        "\n",
        "  ids = m.generate(\n",
        "    **inputs,\n",
        "    streamer=streamer,\n",
        "    max_new_tokens=512,\n",
        "    eos_token_id=t.eos_token_id,\n",
        "    early_stopping=True,\n",
        "  )"
      ]
    },
    {
      "cell_type": "code",
      "execution_count": 25,
      "metadata": {
        "id": "VAwYyhP646CO",
        "colab": {
          "base_uri": "https://localhost:8080/"
        },
        "outputId": "632827f7-261c-4652-ed5b-9a34c0abd17d"
      },
      "outputs": [
        {
          "output_type": "stream",
          "name": "stderr",
          "text": [
            "/usr/local/lib/python3.10/dist-packages/transformers/generation/configuration_utils.py:453: UserWarning: `num_beams` is set to 1. However, `early_stopping` is set to `True` -- this flag is only used in beam-based generation modes. You should set `num_beams>1` or unset `early_stopping`.\n",
            "  warnings.warn(\n",
            "Setting `pad_token_id` to `eos_token_id`:2 for open-end generation.\n",
            "A decoder-only architecture is being used, but right-padding was detected! For correct generation results, please set `padding_side='left'` when initializing the tokenizer.\n"
          ]
        },
        {
          "output_type": "stream",
          "name": "stdout",
          "text": [
            "    <s>[INST] <<SYS>>\n",
            "You are a helpful assistant with access to the following functions. Use them if required -\n",
            "  {\n",
            "    \"name\": \"get_stock_price\",\n",
            "    \"description\": \"Get the current stock price of a company\",\n",
            "    \"parameters\": {\n",
            "        \"type\": \"object\",\n",
            "        \"properties\": {\n",
            "            \"company_name\": {\n",
            "                \"type\": \"string\",\n",
            "                \"description\": \"The name of the company\"\n",
            "            },\n",
            "            \"exchange\": {\n",
            "                \"type\": \"string\",\n",
            "                \"description\": \"The stock exchange where the company is listed\"\n",
            "            }\n",
            "        },\n",
            "        \"required\": [\n",
            "            \"company_name\",\n",
            "            \"exchange\"\n",
            "        ]\n",
            "    }\n",
            "  }\n",
            "  \n",
            "<</SYS>>\n",
            "\n",
            "Hi, can you tell me the current stock price of Apple on NASDAQ? [/INST]  \n",
            " [ASST] <functioncall> {\"name\": \"get_stock_price\", \"arguments\": '{\"company_name\": \"Apple\", \"exchange\": \"NASDAQ\"}'} [/ASST]</s>\n"
          ]
        }
      ],
      "source": [
        "stream(\"Hi, can you tell me the current stock price of Apple on NASDAQ?\", model, tokenizer)"
      ]
    },
    {
      "cell_type": "code",
      "source": [
        "# tokenizer.save_pretrained(f\"./MistralNotebook/{new_model}\")"
      ],
      "metadata": {
        "id": "wXt_8iLudOYl"
      },
      "execution_count": 26,
      "outputs": []
    },
    {
      "cell_type": "code",
      "source": [
        "# Clean up the model and tokenizer\n",
        "model.config.use_cache = True\n",
        "model.eval()\n",
        "\n",
        "# Save the model and tokenizer locally\n",
        "local_model_path = \"./MistralNotebook/cleaned_model\"\n",
        "model.save_pretrained(local_model_path)\n",
        "tokenizer.save_pretrained(local_model_path)"
      ],
      "metadata": {
        "colab": {
          "base_uri": "https://localhost:8080/"
        },
        "id": "2-vwbJ1-Uh2_",
        "outputId": "ab176ba7-8358-459a-fe4f-624da623ccd7"
      },
      "execution_count": 27,
      "outputs": [
        {
          "output_type": "execute_result",
          "data": {
            "text/plain": [
              "('./MistralNotebook/cleaned_model/tokenizer_config.json',\n",
              " './MistralNotebook/cleaned_model/special_tokens_map.json',\n",
              " './MistralNotebook/cleaned_model/tokenizer.model',\n",
              " './MistralNotebook/cleaned_model/added_tokens.json',\n",
              " './MistralNotebook/cleaned_model/tokenizer.json')"
            ]
          },
          "metadata": {},
          "execution_count": 27
        }
      ]
    },
    {
      "cell_type": "code",
      "source": [
        "# Reload the model and tokenizer from local\n",
        "loaded_model = AutoModelForCausalLM.from_pretrained(local_model_path, device_map={\"\": 0})\n",
        "loaded_tokenizer = AutoTokenizer.from_pretrained(local_model_path)"
      ],
      "metadata": {
        "colab": {
          "base_uri": "https://localhost:8080/",
          "height": 49,
          "referenced_widgets": [
            "00128fbfef9c46b8a306ae20a5345b12",
            "fca5048a86b54821a28b30b4525f92c3",
            "3a89ad998a3545fdaffd7a3bf66ae861",
            "3cd5cedb4a414fad93f4e68bfc0cebb0",
            "766ab66970904161aadf8d24ab93d858",
            "982372a9e2fa4b46843001f8db3747f9",
            "ca3727b5129d4547b1fb8aca279bfd89",
            "0d9378600bbf4971afd884f2e97d11c3",
            "7e83f825ecd641f0903a17385ae48756",
            "5acef7bb913d434287eb08ed2da39559",
            "2a62ab32f29142208661366a7758e3a4"
          ]
        },
        "id": "xEx6gLC0Ujyk",
        "outputId": "4051c328-eb34-4c5f-e05f-c7be79209411"
      },
      "execution_count": 28,
      "outputs": [
        {
          "output_type": "display_data",
          "data": {
            "text/plain": [
              "Loading checkpoint shards:   0%|          | 0/2 [00:00<?, ?it/s]"
            ],
            "application/vnd.jupyter.widget-view+json": {
              "version_major": 2,
              "version_minor": 0,
              "model_id": "00128fbfef9c46b8a306ae20a5345b12"
            }
          },
          "metadata": {}
        }
      ]
    },
    {
      "cell_type": "code",
      "source": [
        "# Test the reloaded model\n",
        "stream(\"Hi, can you tell me the current stock price of Apple on NASDAQ?\", loaded_model, loaded_tokenizer)"
      ],
      "metadata": {
        "colab": {
          "base_uri": "https://localhost:8080/"
        },
        "id": "kDGO9pERUnsu",
        "outputId": "0e2ec612-cdc2-43d4-d026-389c6149972c"
      },
      "execution_count": 29,
      "outputs": [
        {
          "output_type": "stream",
          "name": "stderr",
          "text": [
            "Setting `pad_token_id` to `eos_token_id`:2 for open-end generation.\n",
            "A decoder-only architecture is being used, but right-padding was detected! For correct generation results, please set `padding_side='left'` when initializing the tokenizer.\n"
          ]
        },
        {
          "output_type": "stream",
          "name": "stdout",
          "text": [
            "    <s>[INST] <<SYS>>\n",
            "You are a helpful assistant with access to the following functions. Use them if required -\n",
            "  {\n",
            "    \"name\": \"get_stock_price\",\n",
            "    \"description\": \"Get the current stock price of a company\",\n",
            "    \"parameters\": {\n",
            "        \"type\": \"object\",\n",
            "        \"properties\": {\n",
            "            \"company_name\": {\n",
            "                \"type\": \"string\",\n",
            "                \"description\": \"The name of the company\"\n",
            "            },\n",
            "            \"exchange\": {\n",
            "                \"type\": \"string\",\n",
            "                \"description\": \"The stock exchange where the company is listed\"\n",
            "            }\n",
            "        },\n",
            "        \"required\": [\n",
            "            \"company_name\",\n",
            "            \"exchange\"\n",
            "        ]\n",
            "    }\n",
            "  }\n",
            "  \n",
            "<</SYS>>\n",
            "\n",
            "Hi, can you tell me the current stock price of Apple on NASDAQ? [/INST]  \n",
            " [ASST] <functioncall> {\"name\": \"get_stock_price\", \"arguments\": '{\"company_name\": \"Apple\", \"exchange\": \"NASDAQ\"}'} [/ASST]</s>\n"
          ]
        }
      ]
    },
    {
      "cell_type": "markdown",
      "metadata": {
        "id": "HqXTSv_w47Ux"
      },
      "source": [
        "## ♻️ Clear the Memory Footprint and Reload the Model\n",
        "\n",
        "To ensure our environment is clean and to avoid any memory issues, we'll clear any unnecessary data from memory and then reload our fine-tuned model for further use or evaluation."
      ]
    },
    {
      "cell_type": "code",
      "source": [
        "if TRAINING:\n",
        "  import gc\n",
        "  import torch\n",
        "\n",
        "  # Clean up\n",
        "  del trainer, model\n",
        "  gc.collect()\n",
        "  torch.cuda.empty_cache()"
      ],
      "metadata": {
        "id": "W62L-6zPlDe6"
      },
      "execution_count": 40,
      "outputs": []
    },
    {
      "cell_type": "markdown",
      "metadata": {
        "id": "5CVB1VkXwZb6"
      },
      "source": [
        "## 🚚 Push the Model and the Tokenizer to HuggingFace Repo\n",
        "\n",
        "Finally, we'll push our fine-tuned model and its tokenizer to the Hugging Face Hub under the repository `thibaud-perrin/hibo-mistral-7b-fc-vx`. This allows others to access and use our model for their own tasks."
      ]
    },
    {
      "cell_type": "code",
      "source": [
        "assert SAVING == True, \"Do not save this model\""
      ],
      "metadata": {
        "id": "wxXYHqN6lAa-"
      },
      "execution_count": 30,
      "outputs": []
    },
    {
      "cell_type": "code",
      "source": [
        "import shutil\n",
        "\n",
        "# Correct the directory name if it was a typo\n",
        "source_dir = f'./MistralNotebook/{REPO_NAME}/{MODEL_NAME}'  # Ensure this is the correct path\n",
        "# source_dir = local_model_path\n",
        "destination_dir = MODEL_NAME  # Specify your destination directory\n",
        "\n",
        "# Copy the directory\n",
        "try:\n",
        "    shutil.copytree(source_dir, f\"./{destination_dir}\")\n",
        "    print(f\"Directory copied successfully from {source_dir} to {destination_dir}.\")\n",
        "except Exception as e:\n",
        "    print(f\"Error copying directory: {e}\")"
      ],
      "metadata": {
        "id": "eUs3m0Wjq08C",
        "colab": {
          "base_uri": "https://localhost:8080/"
        },
        "outputId": "e26ec735-e038-4e82-c0b9-b4fff7b6effd"
      },
      "execution_count": 31,
      "outputs": [
        {
          "output_type": "stream",
          "name": "stdout",
          "text": [
            "Directory copied successfully from ./MistralNotebook/thibaud-perrin/hibo-mistral-7b-fc-v1.3 to hibo-mistral-7b-fc-v1.3.\n"
          ]
        }
      ]
    },
    {
      "cell_type": "code",
      "source": [
        "# Reload the base model\n",
        "base_model_reload = AutoModelForCausalLM.from_pretrained(\n",
        "    base_model, low_cpu_mem_usage=True,\n",
        "    return_dict=True,torch_dtype=torch.bfloat16,\n",
        "    device_map= {\"\": 0})\n",
        "print(new_model)\n",
        "model = PeftModel.from_pretrained(base_model_reload, \"hibo-mistral-7b-fc-v1.3\")\n",
        "model = model.merge_and_unload()\n",
        "\n",
        "model.push_to_hub(new_model, use_temp_dir=False)\n",
        "tokenizer.push_to_hub(new_model, use_temp_dir=False)"
      ],
      "metadata": {
        "colab": {
          "base_uri": "https://localhost:8080/",
          "height": 278,
          "referenced_widgets": [
            "250b6b3b24684474bc35f5a57a4e9ad3",
            "4081faa775d24a7fb1932c8b2829e67b",
            "dd614ce5ca974e068a3fce23287847d7",
            "cdca7854b42a4ff68d0f79361c9b7bfd",
            "f57b34c117354a85906977021b2b3f4d",
            "667b5fd5aadb43298324c00fa01e35af",
            "98c3b56c625f413abceb5d6dbf111458",
            "d1a9f171772a4cfcae37fe20f43887e0",
            "b5f791be00c74a49a25b5d44e3f6a4f9",
            "c0893025b78a413f85c4fd9487d11cba",
            "da2a860118fb495ba362316bea85c2c1",
            "d772c11a50a84634b784ca76e8c28348",
            "e34454c970944a4b950502c60c7f0659",
            "3e3c8a2ee9474803b0721c6ab2721de2",
            "b6562d5619154f6ea9a2b008c00f3530",
            "ede8f97d8c2144c5bf04a575c666fdf6",
            "a0db60fd3955486fb226efb6bbc3e928",
            "09bc3243d65547869d4637ea89c2870b",
            "9e57ba3250d54a219d9edaa3172b25b0",
            "2ad44cc071a5436da776fbe22c3837ba",
            "7a681099998448918545a5e58f415be5",
            "38de9a0fc88b4666b5579ab2296d35d3",
            "cb12a533aa1e4c7597c920608b309e2d",
            "751da56562f34c038f55056b806a7ad0",
            "55d062b3bfcd423083513d4828048e3d",
            "3b824f2bb2d6445c98d5bd6e3631f107",
            "56aa3e50dad9414c9fd687ee629b29b5",
            "844ec4f26a2c45be961898bbb39b1550",
            "04d595e9d4c043738246e0571567aa36",
            "af6bf68e40144d19a0730c572a06bfd5",
            "0656de1f0ec74f2a99c751e0f2681d72",
            "48644291a3264c08a722789e83427978",
            "2db2e05462f24d318c04bfa0bef9c056",
            "15fde77016bd4033a44a39b85768e0b3",
            "e8abb05f2ab949e1a85aff48cea34f2e",
            "e85ca5dc68be4747aac6f7d7666cf31b",
            "ea497878bf35481aa0ff036f9e0636f4",
            "a6699745344e42d0a93ad013b04a12be",
            "a44496387eae4ec1863ebfc66cdaae3f",
            "100971c510a74464bea17083518dbfc7",
            "c2d142439a3b42b98a056e79833f0403",
            "85b5acdddf92480a81f9d8a6a713887e",
            "02df5a2f977f40eeab45f3d516fd1267",
            "2a5f0988eca641938eaa8b6f457e3a32",
            "e22291fae45b4818821b907a4d65828c",
            "e10dfd93e05c497c94a608ea1fe2fe90",
            "7ad10f8a9647402082a05498ba750e2e",
            "5d88e279e7a24b40a9424b20b8653150",
            "1ff1efc399374fa2a9e4d38bc587b20d",
            "21384d04bf3a4291a4170770f279b072",
            "c355f1a1705e4248bc87829c9bc57a68",
            "434834da13454ff5b98a2f7a8dec0c55",
            "de1ddc3f846d409fa99e9e48750a910c",
            "4478c718eb914ca9a5d2525c2061b982",
            "f45e576d8cb2499ba93265419ab017dc",
            "151d3e666e5c41d0b9c6a72ffb4b74c9",
            "4a5757e9491944149a532ca92bf7c4f1",
            "48306284ae4344e284dfb1a58d3ca11d",
            "5b887a4fc10949e8afdac8db4aa58f86",
            "c80d2b03ca894c6682cb37c129bc0aab",
            "0c3f3eae60f8407c83b8e1c8cca248a8",
            "69b4ad7ff6334d2a8248992f55952c67",
            "968cd4a04a534ef0bf8ef0582bf566bb",
            "f26b09ec00184b9e888ae33c6bd2249e",
            "8ac265e0c3c9433486d308881f4ab487",
            "ba23625a27fc47aebbc2429676342bdb"
          ]
        },
        "id": "HjOpB45Yjt-J",
        "outputId": "3b2afd0a-6c90-4b55-9491-b5fb10f8bde6"
      },
      "execution_count": 41,
      "outputs": [
        {
          "output_type": "display_data",
          "data": {
            "text/plain": [
              "Loading checkpoint shards:   0%|          | 0/2 [00:00<?, ?it/s]"
            ],
            "application/vnd.jupyter.widget-view+json": {
              "version_major": 2,
              "version_minor": 0,
              "model_id": "250b6b3b24684474bc35f5a57a4e9ad3"
            }
          },
          "metadata": {}
        },
        {
          "output_type": "stream",
          "name": "stdout",
          "text": [
            "thibaud-perrin/hibo-mistral-7b-fc-v1.3\n"
          ]
        },
        {
          "output_type": "display_data",
          "data": {
            "text/plain": [
              "model-00002-of-00003.safetensors:   0%|          | 0.00/5.00G [00:00<?, ?B/s]"
            ],
            "application/vnd.jupyter.widget-view+json": {
              "version_major": 2,
              "version_minor": 0,
              "model_id": "d772c11a50a84634b784ca76e8c28348"
            }
          },
          "metadata": {}
        },
        {
          "output_type": "display_data",
          "data": {
            "text/plain": [
              "Upload 3 LFS files:   0%|          | 0/3 [00:00<?, ?it/s]"
            ],
            "application/vnd.jupyter.widget-view+json": {
              "version_major": 2,
              "version_minor": 0,
              "model_id": "cb12a533aa1e4c7597c920608b309e2d"
            }
          },
          "metadata": {}
        },
        {
          "output_type": "display_data",
          "data": {
            "text/plain": [
              "model-00003-of-00003.safetensors:   0%|          | 0.00/4.54G [00:00<?, ?B/s]"
            ],
            "application/vnd.jupyter.widget-view+json": {
              "version_major": 2,
              "version_minor": 0,
              "model_id": "15fde77016bd4033a44a39b85768e0b3"
            }
          },
          "metadata": {}
        },
        {
          "output_type": "display_data",
          "data": {
            "text/plain": [
              "model-00001-of-00003.safetensors:   0%|          | 0.00/4.94G [00:00<?, ?B/s]"
            ],
            "application/vnd.jupyter.widget-view+json": {
              "version_major": 2,
              "version_minor": 0,
              "model_id": "e22291fae45b4818821b907a4d65828c"
            }
          },
          "metadata": {}
        },
        {
          "output_type": "display_data",
          "data": {
            "text/plain": [
              "tokenizer.model:   0%|          | 0.00/493k [00:00<?, ?B/s]"
            ],
            "application/vnd.jupyter.widget-view+json": {
              "version_major": 2,
              "version_minor": 0,
              "model_id": "151d3e666e5c41d0b9c6a72ffb4b74c9"
            }
          },
          "metadata": {}
        },
        {
          "output_type": "execute_result",
          "data": {
            "text/plain": [
              "CommitInfo(commit_url='https://huggingface.co/thibaud-perrin/hibo-mistral-7b-fc-v1.3/commit/fec41af656a0015b46c3de9e335ed3fcab3818fb', commit_message='Upload tokenizer', commit_description='', oid='fec41af656a0015b46c3de9e335ed3fcab3818fb', pr_url=None, pr_revision=None, pr_num=None)"
            ],
            "application/vnd.google.colaboratory.intrinsic+json": {
              "type": "string"
            }
          },
          "metadata": {},
          "execution_count": 41
        }
      ]
    },
    {
      "cell_type": "code",
      "source": [
        "stream(\"Hi, can you tell me the current stock price of Apple on NASDAQ?\", model, tokenizer)"
      ],
      "metadata": {
        "colab": {
          "base_uri": "https://localhost:8080/"
        },
        "id": "uwq9_yhnkhSH",
        "outputId": "c63e2ddf-b992-4866-d8db-686f6c7d35e3"
      },
      "execution_count": 42,
      "outputs": [
        {
          "output_type": "stream",
          "name": "stderr",
          "text": [
            "/usr/local/lib/python3.10/dist-packages/transformers/generation/configuration_utils.py:453: UserWarning: `num_beams` is set to 1. However, `early_stopping` is set to `True` -- this flag is only used in beam-based generation modes. You should set `num_beams>1` or unset `early_stopping`.\n",
            "  warnings.warn(\n",
            "Setting `pad_token_id` to `eos_token_id`:2 for open-end generation.\n",
            "A decoder-only architecture is being used, but right-padding was detected! For correct generation results, please set `padding_side='left'` when initializing the tokenizer.\n"
          ]
        },
        {
          "output_type": "stream",
          "name": "stdout",
          "text": [
            "    <s>[INST] <<SYS>>\n",
            "You are a helpful assistant with access to the following functions. Use them if required -\n",
            "  {\n",
            "    \"name\": \"get_stock_price\",\n",
            "    \"description\": \"Get the current stock price of a company\",\n",
            "    \"parameters\": {\n",
            "        \"type\": \"object\",\n",
            "        \"properties\": {\n",
            "            \"company_name\": {\n",
            "                \"type\": \"string\",\n",
            "                \"description\": \"The name of the company\"\n",
            "            },\n",
            "            \"exchange\": {\n",
            "                \"type\": \"string\",\n",
            "                \"description\": \"The stock exchange where the company is listed\"\n",
            "            }\n",
            "        },\n",
            "        \"required\": [\n",
            "            \"company_name\",\n",
            "            \"exchange\"\n",
            "        ]\n",
            "    }\n",
            "  }\n",
            "  \n",
            "<</SYS>>\n",
            "\n",
            "Hi, can you tell me the current stock price of Apple on NASDAQ? [/INST]  \n",
            " [ASST] <functioncall> {\"name\": \"get_stock_price\", \"arguments\": '{\"company_name\": \"Apple\", \"exchange\": \"NASDAQ\"}'} [/ASST]</s>\n"
          ]
        }
      ]
    }
  ],
  "metadata": {
    "accelerator": "GPU",
    "colab": {
      "gpuType": "A100",
      "machine_shape": "hm",
      "provenance": [],
      "mount_file_id": "1bIaXN59_tPaFAWpb-W7qQZ7j7B0U4h3Y",
      "authorship_tag": "ABX9TyOdoXLoV3CmKK8aQ0TCvMTm",
      "include_colab_link": true
    },
    "kernelspec": {
      "display_name": "Python 3",
      "name": "python3"
    },
    "language_info": {
      "name": "python"
    },
    "widgets": {
      "application/vnd.jupyter.widget-state+json": {
        "8bdf50d87dbe4321adfc2d69a5f65f29": {
          "model_module": "@jupyter-widgets/controls",
          "model_name": "HBoxModel",
          "model_module_version": "1.5.0",
          "state": {
            "_dom_classes": [],
            "_model_module": "@jupyter-widgets/controls",
            "_model_module_version": "1.5.0",
            "_model_name": "HBoxModel",
            "_view_count": null,
            "_view_module": "@jupyter-widgets/controls",
            "_view_module_version": "1.5.0",
            "_view_name": "HBoxView",
            "box_style": "",
            "children": [
              "IPY_MODEL_3ec943ff54cb4a62ad2953bc5c0b1138",
              "IPY_MODEL_504a1d42944a4a2fbe6138384fcec2fe",
              "IPY_MODEL_49fd7f084ba4415caeade2b8f7bc83c5"
            ],
            "layout": "IPY_MODEL_71dbe721e3904edb9ddbdafa10fd3818"
          }
        },
        "3ec943ff54cb4a62ad2953bc5c0b1138": {
          "model_module": "@jupyter-widgets/controls",
          "model_name": "HTMLModel",
          "model_module_version": "1.5.0",
          "state": {
            "_dom_classes": [],
            "_model_module": "@jupyter-widgets/controls",
            "_model_module_version": "1.5.0",
            "_model_name": "HTMLModel",
            "_view_count": null,
            "_view_module": "@jupyter-widgets/controls",
            "_view_module_version": "1.5.0",
            "_view_name": "HTMLView",
            "description": "",
            "description_tooltip": null,
            "layout": "IPY_MODEL_ccae1e7f37194079a2fdb0df67328538",
            "placeholder": "​",
            "style": "IPY_MODEL_ee4f19fbce4841f3a999a26aa6b0318f",
            "value": "Loading checkpoint shards: 100%"
          }
        },
        "504a1d42944a4a2fbe6138384fcec2fe": {
          "model_module": "@jupyter-widgets/controls",
          "model_name": "FloatProgressModel",
          "model_module_version": "1.5.0",
          "state": {
            "_dom_classes": [],
            "_model_module": "@jupyter-widgets/controls",
            "_model_module_version": "1.5.0",
            "_model_name": "FloatProgressModel",
            "_view_count": null,
            "_view_module": "@jupyter-widgets/controls",
            "_view_module_version": "1.5.0",
            "_view_name": "ProgressView",
            "bar_style": "success",
            "description": "",
            "description_tooltip": null,
            "layout": "IPY_MODEL_c8b6d2e79e3a4005b1106e942d9e5d84",
            "max": 2,
            "min": 0,
            "orientation": "horizontal",
            "style": "IPY_MODEL_3c59578b87f34df3a932e5a864dad797",
            "value": 2
          }
        },
        "49fd7f084ba4415caeade2b8f7bc83c5": {
          "model_module": "@jupyter-widgets/controls",
          "model_name": "HTMLModel",
          "model_module_version": "1.5.0",
          "state": {
            "_dom_classes": [],
            "_model_module": "@jupyter-widgets/controls",
            "_model_module_version": "1.5.0",
            "_model_name": "HTMLModel",
            "_view_count": null,
            "_view_module": "@jupyter-widgets/controls",
            "_view_module_version": "1.5.0",
            "_view_name": "HTMLView",
            "description": "",
            "description_tooltip": null,
            "layout": "IPY_MODEL_6727839901da4fc6b283c28c764acf09",
            "placeholder": "​",
            "style": "IPY_MODEL_aee98b5ebbf04e8ba66c6406aec37698",
            "value": " 2/2 [00:09&lt;00:00,  4.40s/it]"
          }
        },
        "71dbe721e3904edb9ddbdafa10fd3818": {
          "model_module": "@jupyter-widgets/base",
          "model_name": "LayoutModel",
          "model_module_version": "1.2.0",
          "state": {
            "_model_module": "@jupyter-widgets/base",
            "_model_module_version": "1.2.0",
            "_model_name": "LayoutModel",
            "_view_count": null,
            "_view_module": "@jupyter-widgets/base",
            "_view_module_version": "1.2.0",
            "_view_name": "LayoutView",
            "align_content": null,
            "align_items": null,
            "align_self": null,
            "border": null,
            "bottom": null,
            "display": null,
            "flex": null,
            "flex_flow": null,
            "grid_area": null,
            "grid_auto_columns": null,
            "grid_auto_flow": null,
            "grid_auto_rows": null,
            "grid_column": null,
            "grid_gap": null,
            "grid_row": null,
            "grid_template_areas": null,
            "grid_template_columns": null,
            "grid_template_rows": null,
            "height": null,
            "justify_content": null,
            "justify_items": null,
            "left": null,
            "margin": null,
            "max_height": null,
            "max_width": null,
            "min_height": null,
            "min_width": null,
            "object_fit": null,
            "object_position": null,
            "order": null,
            "overflow": null,
            "overflow_x": null,
            "overflow_y": null,
            "padding": null,
            "right": null,
            "top": null,
            "visibility": null,
            "width": null
          }
        },
        "ccae1e7f37194079a2fdb0df67328538": {
          "model_module": "@jupyter-widgets/base",
          "model_name": "LayoutModel",
          "model_module_version": "1.2.0",
          "state": {
            "_model_module": "@jupyter-widgets/base",
            "_model_module_version": "1.2.0",
            "_model_name": "LayoutModel",
            "_view_count": null,
            "_view_module": "@jupyter-widgets/base",
            "_view_module_version": "1.2.0",
            "_view_name": "LayoutView",
            "align_content": null,
            "align_items": null,
            "align_self": null,
            "border": null,
            "bottom": null,
            "display": null,
            "flex": null,
            "flex_flow": null,
            "grid_area": null,
            "grid_auto_columns": null,
            "grid_auto_flow": null,
            "grid_auto_rows": null,
            "grid_column": null,
            "grid_gap": null,
            "grid_row": null,
            "grid_template_areas": null,
            "grid_template_columns": null,
            "grid_template_rows": null,
            "height": null,
            "justify_content": null,
            "justify_items": null,
            "left": null,
            "margin": null,
            "max_height": null,
            "max_width": null,
            "min_height": null,
            "min_width": null,
            "object_fit": null,
            "object_position": null,
            "order": null,
            "overflow": null,
            "overflow_x": null,
            "overflow_y": null,
            "padding": null,
            "right": null,
            "top": null,
            "visibility": null,
            "width": null
          }
        },
        "ee4f19fbce4841f3a999a26aa6b0318f": {
          "model_module": "@jupyter-widgets/controls",
          "model_name": "DescriptionStyleModel",
          "model_module_version": "1.5.0",
          "state": {
            "_model_module": "@jupyter-widgets/controls",
            "_model_module_version": "1.5.0",
            "_model_name": "DescriptionStyleModel",
            "_view_count": null,
            "_view_module": "@jupyter-widgets/base",
            "_view_module_version": "1.2.0",
            "_view_name": "StyleView",
            "description_width": ""
          }
        },
        "c8b6d2e79e3a4005b1106e942d9e5d84": {
          "model_module": "@jupyter-widgets/base",
          "model_name": "LayoutModel",
          "model_module_version": "1.2.0",
          "state": {
            "_model_module": "@jupyter-widgets/base",
            "_model_module_version": "1.2.0",
            "_model_name": "LayoutModel",
            "_view_count": null,
            "_view_module": "@jupyter-widgets/base",
            "_view_module_version": "1.2.0",
            "_view_name": "LayoutView",
            "align_content": null,
            "align_items": null,
            "align_self": null,
            "border": null,
            "bottom": null,
            "display": null,
            "flex": null,
            "flex_flow": null,
            "grid_area": null,
            "grid_auto_columns": null,
            "grid_auto_flow": null,
            "grid_auto_rows": null,
            "grid_column": null,
            "grid_gap": null,
            "grid_row": null,
            "grid_template_areas": null,
            "grid_template_columns": null,
            "grid_template_rows": null,
            "height": null,
            "justify_content": null,
            "justify_items": null,
            "left": null,
            "margin": null,
            "max_height": null,
            "max_width": null,
            "min_height": null,
            "min_width": null,
            "object_fit": null,
            "object_position": null,
            "order": null,
            "overflow": null,
            "overflow_x": null,
            "overflow_y": null,
            "padding": null,
            "right": null,
            "top": null,
            "visibility": null,
            "width": null
          }
        },
        "3c59578b87f34df3a932e5a864dad797": {
          "model_module": "@jupyter-widgets/controls",
          "model_name": "ProgressStyleModel",
          "model_module_version": "1.5.0",
          "state": {
            "_model_module": "@jupyter-widgets/controls",
            "_model_module_version": "1.5.0",
            "_model_name": "ProgressStyleModel",
            "_view_count": null,
            "_view_module": "@jupyter-widgets/base",
            "_view_module_version": "1.2.0",
            "_view_name": "StyleView",
            "bar_color": null,
            "description_width": ""
          }
        },
        "6727839901da4fc6b283c28c764acf09": {
          "model_module": "@jupyter-widgets/base",
          "model_name": "LayoutModel",
          "model_module_version": "1.2.0",
          "state": {
            "_model_module": "@jupyter-widgets/base",
            "_model_module_version": "1.2.0",
            "_model_name": "LayoutModel",
            "_view_count": null,
            "_view_module": "@jupyter-widgets/base",
            "_view_module_version": "1.2.0",
            "_view_name": "LayoutView",
            "align_content": null,
            "align_items": null,
            "align_self": null,
            "border": null,
            "bottom": null,
            "display": null,
            "flex": null,
            "flex_flow": null,
            "grid_area": null,
            "grid_auto_columns": null,
            "grid_auto_flow": null,
            "grid_auto_rows": null,
            "grid_column": null,
            "grid_gap": null,
            "grid_row": null,
            "grid_template_areas": null,
            "grid_template_columns": null,
            "grid_template_rows": null,
            "height": null,
            "justify_content": null,
            "justify_items": null,
            "left": null,
            "margin": null,
            "max_height": null,
            "max_width": null,
            "min_height": null,
            "min_width": null,
            "object_fit": null,
            "object_position": null,
            "order": null,
            "overflow": null,
            "overflow_x": null,
            "overflow_y": null,
            "padding": null,
            "right": null,
            "top": null,
            "visibility": null,
            "width": null
          }
        },
        "aee98b5ebbf04e8ba66c6406aec37698": {
          "model_module": "@jupyter-widgets/controls",
          "model_name": "DescriptionStyleModel",
          "model_module_version": "1.5.0",
          "state": {
            "_model_module": "@jupyter-widgets/controls",
            "_model_module_version": "1.5.0",
            "_model_name": "DescriptionStyleModel",
            "_view_count": null,
            "_view_module": "@jupyter-widgets/base",
            "_view_module_version": "1.2.0",
            "_view_name": "StyleView",
            "description_width": ""
          }
        },
        "e2e903a071674338b90b077b045d39d8": {
          "model_module": "@jupyter-widgets/controls",
          "model_name": "VBoxModel",
          "model_module_version": "1.5.0",
          "state": {
            "_dom_classes": [],
            "_model_module": "@jupyter-widgets/controls",
            "_model_module_version": "1.5.0",
            "_model_name": "VBoxModel",
            "_view_count": null,
            "_view_module": "@jupyter-widgets/controls",
            "_view_module_version": "1.5.0",
            "_view_name": "VBoxView",
            "box_style": "",
            "children": [
              "IPY_MODEL_2a2fbd49f25e406bb372b3fc42b3c9c6",
              "IPY_MODEL_dc80b6ade7804359a427ac99c159f290"
            ],
            "layout": "IPY_MODEL_10431968bcdd40eab455246b915c9aa4"
          }
        },
        "2a2fbd49f25e406bb372b3fc42b3c9c6": {
          "model_module": "@jupyter-widgets/controls",
          "model_name": "LabelModel",
          "model_module_version": "1.5.0",
          "state": {
            "_dom_classes": [],
            "_model_module": "@jupyter-widgets/controls",
            "_model_module_version": "1.5.0",
            "_model_name": "LabelModel",
            "_view_count": null,
            "_view_module": "@jupyter-widgets/controls",
            "_view_module_version": "1.5.0",
            "_view_name": "LabelView",
            "description": "",
            "description_tooltip": null,
            "layout": "IPY_MODEL_6ca7e93b3b9545d5a19a6083701cca69",
            "placeholder": "​",
            "style": "IPY_MODEL_82a4604c61864cccb3b9e60f002e1ade",
            "value": "0.022 MB of 0.022 MB uploaded\r"
          }
        },
        "dc80b6ade7804359a427ac99c159f290": {
          "model_module": "@jupyter-widgets/controls",
          "model_name": "FloatProgressModel",
          "model_module_version": "1.5.0",
          "state": {
            "_dom_classes": [],
            "_model_module": "@jupyter-widgets/controls",
            "_model_module_version": "1.5.0",
            "_model_name": "FloatProgressModel",
            "_view_count": null,
            "_view_module": "@jupyter-widgets/controls",
            "_view_module_version": "1.5.0",
            "_view_name": "ProgressView",
            "bar_style": "",
            "description": "",
            "description_tooltip": null,
            "layout": "IPY_MODEL_8a9c2f34512f478392b273ec381da8d9",
            "max": 1,
            "min": 0,
            "orientation": "horizontal",
            "style": "IPY_MODEL_f943ae2c5aa1475f8c3beeb66ae65d5d",
            "value": 1
          }
        },
        "10431968bcdd40eab455246b915c9aa4": {
          "model_module": "@jupyter-widgets/base",
          "model_name": "LayoutModel",
          "model_module_version": "1.2.0",
          "state": {
            "_model_module": "@jupyter-widgets/base",
            "_model_module_version": "1.2.0",
            "_model_name": "LayoutModel",
            "_view_count": null,
            "_view_module": "@jupyter-widgets/base",
            "_view_module_version": "1.2.0",
            "_view_name": "LayoutView",
            "align_content": null,
            "align_items": null,
            "align_self": null,
            "border": null,
            "bottom": null,
            "display": null,
            "flex": null,
            "flex_flow": null,
            "grid_area": null,
            "grid_auto_columns": null,
            "grid_auto_flow": null,
            "grid_auto_rows": null,
            "grid_column": null,
            "grid_gap": null,
            "grid_row": null,
            "grid_template_areas": null,
            "grid_template_columns": null,
            "grid_template_rows": null,
            "height": null,
            "justify_content": null,
            "justify_items": null,
            "left": null,
            "margin": null,
            "max_height": null,
            "max_width": null,
            "min_height": null,
            "min_width": null,
            "object_fit": null,
            "object_position": null,
            "order": null,
            "overflow": null,
            "overflow_x": null,
            "overflow_y": null,
            "padding": null,
            "right": null,
            "top": null,
            "visibility": null,
            "width": null
          }
        },
        "6ca7e93b3b9545d5a19a6083701cca69": {
          "model_module": "@jupyter-widgets/base",
          "model_name": "LayoutModel",
          "model_module_version": "1.2.0",
          "state": {
            "_model_module": "@jupyter-widgets/base",
            "_model_module_version": "1.2.0",
            "_model_name": "LayoutModel",
            "_view_count": null,
            "_view_module": "@jupyter-widgets/base",
            "_view_module_version": "1.2.0",
            "_view_name": "LayoutView",
            "align_content": null,
            "align_items": null,
            "align_self": null,
            "border": null,
            "bottom": null,
            "display": null,
            "flex": null,
            "flex_flow": null,
            "grid_area": null,
            "grid_auto_columns": null,
            "grid_auto_flow": null,
            "grid_auto_rows": null,
            "grid_column": null,
            "grid_gap": null,
            "grid_row": null,
            "grid_template_areas": null,
            "grid_template_columns": null,
            "grid_template_rows": null,
            "height": null,
            "justify_content": null,
            "justify_items": null,
            "left": null,
            "margin": null,
            "max_height": null,
            "max_width": null,
            "min_height": null,
            "min_width": null,
            "object_fit": null,
            "object_position": null,
            "order": null,
            "overflow": null,
            "overflow_x": null,
            "overflow_y": null,
            "padding": null,
            "right": null,
            "top": null,
            "visibility": null,
            "width": null
          }
        },
        "82a4604c61864cccb3b9e60f002e1ade": {
          "model_module": "@jupyter-widgets/controls",
          "model_name": "DescriptionStyleModel",
          "model_module_version": "1.5.0",
          "state": {
            "_model_module": "@jupyter-widgets/controls",
            "_model_module_version": "1.5.0",
            "_model_name": "DescriptionStyleModel",
            "_view_count": null,
            "_view_module": "@jupyter-widgets/base",
            "_view_module_version": "1.2.0",
            "_view_name": "StyleView",
            "description_width": ""
          }
        },
        "8a9c2f34512f478392b273ec381da8d9": {
          "model_module": "@jupyter-widgets/base",
          "model_name": "LayoutModel",
          "model_module_version": "1.2.0",
          "state": {
            "_model_module": "@jupyter-widgets/base",
            "_model_module_version": "1.2.0",
            "_model_name": "LayoutModel",
            "_view_count": null,
            "_view_module": "@jupyter-widgets/base",
            "_view_module_version": "1.2.0",
            "_view_name": "LayoutView",
            "align_content": null,
            "align_items": null,
            "align_self": null,
            "border": null,
            "bottom": null,
            "display": null,
            "flex": null,
            "flex_flow": null,
            "grid_area": null,
            "grid_auto_columns": null,
            "grid_auto_flow": null,
            "grid_auto_rows": null,
            "grid_column": null,
            "grid_gap": null,
            "grid_row": null,
            "grid_template_areas": null,
            "grid_template_columns": null,
            "grid_template_rows": null,
            "height": null,
            "justify_content": null,
            "justify_items": null,
            "left": null,
            "margin": null,
            "max_height": null,
            "max_width": null,
            "min_height": null,
            "min_width": null,
            "object_fit": null,
            "object_position": null,
            "order": null,
            "overflow": null,
            "overflow_x": null,
            "overflow_y": null,
            "padding": null,
            "right": null,
            "top": null,
            "visibility": null,
            "width": null
          }
        },
        "f943ae2c5aa1475f8c3beeb66ae65d5d": {
          "model_module": "@jupyter-widgets/controls",
          "model_name": "ProgressStyleModel",
          "model_module_version": "1.5.0",
          "state": {
            "_model_module": "@jupyter-widgets/controls",
            "_model_module_version": "1.5.0",
            "_model_name": "ProgressStyleModel",
            "_view_count": null,
            "_view_module": "@jupyter-widgets/base",
            "_view_module_version": "1.2.0",
            "_view_name": "StyleView",
            "bar_color": null,
            "description_width": ""
          }
        },
        "00128fbfef9c46b8a306ae20a5345b12": {
          "model_module": "@jupyter-widgets/controls",
          "model_name": "HBoxModel",
          "model_module_version": "1.5.0",
          "state": {
            "_dom_classes": [],
            "_model_module": "@jupyter-widgets/controls",
            "_model_module_version": "1.5.0",
            "_model_name": "HBoxModel",
            "_view_count": null,
            "_view_module": "@jupyter-widgets/controls",
            "_view_module_version": "1.5.0",
            "_view_name": "HBoxView",
            "box_style": "",
            "children": [
              "IPY_MODEL_fca5048a86b54821a28b30b4525f92c3",
              "IPY_MODEL_3a89ad998a3545fdaffd7a3bf66ae861",
              "IPY_MODEL_3cd5cedb4a414fad93f4e68bfc0cebb0"
            ],
            "layout": "IPY_MODEL_766ab66970904161aadf8d24ab93d858"
          }
        },
        "fca5048a86b54821a28b30b4525f92c3": {
          "model_module": "@jupyter-widgets/controls",
          "model_name": "HTMLModel",
          "model_module_version": "1.5.0",
          "state": {
            "_dom_classes": [],
            "_model_module": "@jupyter-widgets/controls",
            "_model_module_version": "1.5.0",
            "_model_name": "HTMLModel",
            "_view_count": null,
            "_view_module": "@jupyter-widgets/controls",
            "_view_module_version": "1.5.0",
            "_view_name": "HTMLView",
            "description": "",
            "description_tooltip": null,
            "layout": "IPY_MODEL_982372a9e2fa4b46843001f8db3747f9",
            "placeholder": "​",
            "style": "IPY_MODEL_ca3727b5129d4547b1fb8aca279bfd89",
            "value": "Loading checkpoint shards: 100%"
          }
        },
        "3a89ad998a3545fdaffd7a3bf66ae861": {
          "model_module": "@jupyter-widgets/controls",
          "model_name": "FloatProgressModel",
          "model_module_version": "1.5.0",
          "state": {
            "_dom_classes": [],
            "_model_module": "@jupyter-widgets/controls",
            "_model_module_version": "1.5.0",
            "_model_name": "FloatProgressModel",
            "_view_count": null,
            "_view_module": "@jupyter-widgets/controls",
            "_view_module_version": "1.5.0",
            "_view_name": "ProgressView",
            "bar_style": "success",
            "description": "",
            "description_tooltip": null,
            "layout": "IPY_MODEL_0d9378600bbf4971afd884f2e97d11c3",
            "max": 2,
            "min": 0,
            "orientation": "horizontal",
            "style": "IPY_MODEL_7e83f825ecd641f0903a17385ae48756",
            "value": 2
          }
        },
        "3cd5cedb4a414fad93f4e68bfc0cebb0": {
          "model_module": "@jupyter-widgets/controls",
          "model_name": "HTMLModel",
          "model_module_version": "1.5.0",
          "state": {
            "_dom_classes": [],
            "_model_module": "@jupyter-widgets/controls",
            "_model_module_version": "1.5.0",
            "_model_name": "HTMLModel",
            "_view_count": null,
            "_view_module": "@jupyter-widgets/controls",
            "_view_module_version": "1.5.0",
            "_view_name": "HTMLView",
            "description": "",
            "description_tooltip": null,
            "layout": "IPY_MODEL_5acef7bb913d434287eb08ed2da39559",
            "placeholder": "​",
            "style": "IPY_MODEL_2a62ab32f29142208661366a7758e3a4",
            "value": " 2/2 [00:12&lt;00:00,  6.10s/it]"
          }
        },
        "766ab66970904161aadf8d24ab93d858": {
          "model_module": "@jupyter-widgets/base",
          "model_name": "LayoutModel",
          "model_module_version": "1.2.0",
          "state": {
            "_model_module": "@jupyter-widgets/base",
            "_model_module_version": "1.2.0",
            "_model_name": "LayoutModel",
            "_view_count": null,
            "_view_module": "@jupyter-widgets/base",
            "_view_module_version": "1.2.0",
            "_view_name": "LayoutView",
            "align_content": null,
            "align_items": null,
            "align_self": null,
            "border": null,
            "bottom": null,
            "display": null,
            "flex": null,
            "flex_flow": null,
            "grid_area": null,
            "grid_auto_columns": null,
            "grid_auto_flow": null,
            "grid_auto_rows": null,
            "grid_column": null,
            "grid_gap": null,
            "grid_row": null,
            "grid_template_areas": null,
            "grid_template_columns": null,
            "grid_template_rows": null,
            "height": null,
            "justify_content": null,
            "justify_items": null,
            "left": null,
            "margin": null,
            "max_height": null,
            "max_width": null,
            "min_height": null,
            "min_width": null,
            "object_fit": null,
            "object_position": null,
            "order": null,
            "overflow": null,
            "overflow_x": null,
            "overflow_y": null,
            "padding": null,
            "right": null,
            "top": null,
            "visibility": null,
            "width": null
          }
        },
        "982372a9e2fa4b46843001f8db3747f9": {
          "model_module": "@jupyter-widgets/base",
          "model_name": "LayoutModel",
          "model_module_version": "1.2.0",
          "state": {
            "_model_module": "@jupyter-widgets/base",
            "_model_module_version": "1.2.0",
            "_model_name": "LayoutModel",
            "_view_count": null,
            "_view_module": "@jupyter-widgets/base",
            "_view_module_version": "1.2.0",
            "_view_name": "LayoutView",
            "align_content": null,
            "align_items": null,
            "align_self": null,
            "border": null,
            "bottom": null,
            "display": null,
            "flex": null,
            "flex_flow": null,
            "grid_area": null,
            "grid_auto_columns": null,
            "grid_auto_flow": null,
            "grid_auto_rows": null,
            "grid_column": null,
            "grid_gap": null,
            "grid_row": null,
            "grid_template_areas": null,
            "grid_template_columns": null,
            "grid_template_rows": null,
            "height": null,
            "justify_content": null,
            "justify_items": null,
            "left": null,
            "margin": null,
            "max_height": null,
            "max_width": null,
            "min_height": null,
            "min_width": null,
            "object_fit": null,
            "object_position": null,
            "order": null,
            "overflow": null,
            "overflow_x": null,
            "overflow_y": null,
            "padding": null,
            "right": null,
            "top": null,
            "visibility": null,
            "width": null
          }
        },
        "ca3727b5129d4547b1fb8aca279bfd89": {
          "model_module": "@jupyter-widgets/controls",
          "model_name": "DescriptionStyleModel",
          "model_module_version": "1.5.0",
          "state": {
            "_model_module": "@jupyter-widgets/controls",
            "_model_module_version": "1.5.0",
            "_model_name": "DescriptionStyleModel",
            "_view_count": null,
            "_view_module": "@jupyter-widgets/base",
            "_view_module_version": "1.2.0",
            "_view_name": "StyleView",
            "description_width": ""
          }
        },
        "0d9378600bbf4971afd884f2e97d11c3": {
          "model_module": "@jupyter-widgets/base",
          "model_name": "LayoutModel",
          "model_module_version": "1.2.0",
          "state": {
            "_model_module": "@jupyter-widgets/base",
            "_model_module_version": "1.2.0",
            "_model_name": "LayoutModel",
            "_view_count": null,
            "_view_module": "@jupyter-widgets/base",
            "_view_module_version": "1.2.0",
            "_view_name": "LayoutView",
            "align_content": null,
            "align_items": null,
            "align_self": null,
            "border": null,
            "bottom": null,
            "display": null,
            "flex": null,
            "flex_flow": null,
            "grid_area": null,
            "grid_auto_columns": null,
            "grid_auto_flow": null,
            "grid_auto_rows": null,
            "grid_column": null,
            "grid_gap": null,
            "grid_row": null,
            "grid_template_areas": null,
            "grid_template_columns": null,
            "grid_template_rows": null,
            "height": null,
            "justify_content": null,
            "justify_items": null,
            "left": null,
            "margin": null,
            "max_height": null,
            "max_width": null,
            "min_height": null,
            "min_width": null,
            "object_fit": null,
            "object_position": null,
            "order": null,
            "overflow": null,
            "overflow_x": null,
            "overflow_y": null,
            "padding": null,
            "right": null,
            "top": null,
            "visibility": null,
            "width": null
          }
        },
        "7e83f825ecd641f0903a17385ae48756": {
          "model_module": "@jupyter-widgets/controls",
          "model_name": "ProgressStyleModel",
          "model_module_version": "1.5.0",
          "state": {
            "_model_module": "@jupyter-widgets/controls",
            "_model_module_version": "1.5.0",
            "_model_name": "ProgressStyleModel",
            "_view_count": null,
            "_view_module": "@jupyter-widgets/base",
            "_view_module_version": "1.2.0",
            "_view_name": "StyleView",
            "bar_color": null,
            "description_width": ""
          }
        },
        "5acef7bb913d434287eb08ed2da39559": {
          "model_module": "@jupyter-widgets/base",
          "model_name": "LayoutModel",
          "model_module_version": "1.2.0",
          "state": {
            "_model_module": "@jupyter-widgets/base",
            "_model_module_version": "1.2.0",
            "_model_name": "LayoutModel",
            "_view_count": null,
            "_view_module": "@jupyter-widgets/base",
            "_view_module_version": "1.2.0",
            "_view_name": "LayoutView",
            "align_content": null,
            "align_items": null,
            "align_self": null,
            "border": null,
            "bottom": null,
            "display": null,
            "flex": null,
            "flex_flow": null,
            "grid_area": null,
            "grid_auto_columns": null,
            "grid_auto_flow": null,
            "grid_auto_rows": null,
            "grid_column": null,
            "grid_gap": null,
            "grid_row": null,
            "grid_template_areas": null,
            "grid_template_columns": null,
            "grid_template_rows": null,
            "height": null,
            "justify_content": null,
            "justify_items": null,
            "left": null,
            "margin": null,
            "max_height": null,
            "max_width": null,
            "min_height": null,
            "min_width": null,
            "object_fit": null,
            "object_position": null,
            "order": null,
            "overflow": null,
            "overflow_x": null,
            "overflow_y": null,
            "padding": null,
            "right": null,
            "top": null,
            "visibility": null,
            "width": null
          }
        },
        "2a62ab32f29142208661366a7758e3a4": {
          "model_module": "@jupyter-widgets/controls",
          "model_name": "DescriptionStyleModel",
          "model_module_version": "1.5.0",
          "state": {
            "_model_module": "@jupyter-widgets/controls",
            "_model_module_version": "1.5.0",
            "_model_name": "DescriptionStyleModel",
            "_view_count": null,
            "_view_module": "@jupyter-widgets/base",
            "_view_module_version": "1.2.0",
            "_view_name": "StyleView",
            "description_width": ""
          }
        },
        "250b6b3b24684474bc35f5a57a4e9ad3": {
          "model_module": "@jupyter-widgets/controls",
          "model_name": "HBoxModel",
          "model_module_version": "1.5.0",
          "state": {
            "_dom_classes": [],
            "_model_module": "@jupyter-widgets/controls",
            "_model_module_version": "1.5.0",
            "_model_name": "HBoxModel",
            "_view_count": null,
            "_view_module": "@jupyter-widgets/controls",
            "_view_module_version": "1.5.0",
            "_view_name": "HBoxView",
            "box_style": "",
            "children": [
              "IPY_MODEL_4081faa775d24a7fb1932c8b2829e67b",
              "IPY_MODEL_dd614ce5ca974e068a3fce23287847d7",
              "IPY_MODEL_cdca7854b42a4ff68d0f79361c9b7bfd"
            ],
            "layout": "IPY_MODEL_f57b34c117354a85906977021b2b3f4d"
          }
        },
        "4081faa775d24a7fb1932c8b2829e67b": {
          "model_module": "@jupyter-widgets/controls",
          "model_name": "HTMLModel",
          "model_module_version": "1.5.0",
          "state": {
            "_dom_classes": [],
            "_model_module": "@jupyter-widgets/controls",
            "_model_module_version": "1.5.0",
            "_model_name": "HTMLModel",
            "_view_count": null,
            "_view_module": "@jupyter-widgets/controls",
            "_view_module_version": "1.5.0",
            "_view_name": "HTMLView",
            "description": "",
            "description_tooltip": null,
            "layout": "IPY_MODEL_667b5fd5aadb43298324c00fa01e35af",
            "placeholder": "​",
            "style": "IPY_MODEL_98c3b56c625f413abceb5d6dbf111458",
            "value": "Loading checkpoint shards: 100%"
          }
        },
        "dd614ce5ca974e068a3fce23287847d7": {
          "model_module": "@jupyter-widgets/controls",
          "model_name": "FloatProgressModel",
          "model_module_version": "1.5.0",
          "state": {
            "_dom_classes": [],
            "_model_module": "@jupyter-widgets/controls",
            "_model_module_version": "1.5.0",
            "_model_name": "FloatProgressModel",
            "_view_count": null,
            "_view_module": "@jupyter-widgets/controls",
            "_view_module_version": "1.5.0",
            "_view_name": "ProgressView",
            "bar_style": "success",
            "description": "",
            "description_tooltip": null,
            "layout": "IPY_MODEL_d1a9f171772a4cfcae37fe20f43887e0",
            "max": 2,
            "min": 0,
            "orientation": "horizontal",
            "style": "IPY_MODEL_b5f791be00c74a49a25b5d44e3f6a4f9",
            "value": 2
          }
        },
        "cdca7854b42a4ff68d0f79361c9b7bfd": {
          "model_module": "@jupyter-widgets/controls",
          "model_name": "HTMLModel",
          "model_module_version": "1.5.0",
          "state": {
            "_dom_classes": [],
            "_model_module": "@jupyter-widgets/controls",
            "_model_module_version": "1.5.0",
            "_model_name": "HTMLModel",
            "_view_count": null,
            "_view_module": "@jupyter-widgets/controls",
            "_view_module_version": "1.5.0",
            "_view_name": "HTMLView",
            "description": "",
            "description_tooltip": null,
            "layout": "IPY_MODEL_c0893025b78a413f85c4fd9487d11cba",
            "placeholder": "​",
            "style": "IPY_MODEL_da2a860118fb495ba362316bea85c2c1",
            "value": " 2/2 [00:04&lt;00:00,  2.34s/it]"
          }
        },
        "f57b34c117354a85906977021b2b3f4d": {
          "model_module": "@jupyter-widgets/base",
          "model_name": "LayoutModel",
          "model_module_version": "1.2.0",
          "state": {
            "_model_module": "@jupyter-widgets/base",
            "_model_module_version": "1.2.0",
            "_model_name": "LayoutModel",
            "_view_count": null,
            "_view_module": "@jupyter-widgets/base",
            "_view_module_version": "1.2.0",
            "_view_name": "LayoutView",
            "align_content": null,
            "align_items": null,
            "align_self": null,
            "border": null,
            "bottom": null,
            "display": null,
            "flex": null,
            "flex_flow": null,
            "grid_area": null,
            "grid_auto_columns": null,
            "grid_auto_flow": null,
            "grid_auto_rows": null,
            "grid_column": null,
            "grid_gap": null,
            "grid_row": null,
            "grid_template_areas": null,
            "grid_template_columns": null,
            "grid_template_rows": null,
            "height": null,
            "justify_content": null,
            "justify_items": null,
            "left": null,
            "margin": null,
            "max_height": null,
            "max_width": null,
            "min_height": null,
            "min_width": null,
            "object_fit": null,
            "object_position": null,
            "order": null,
            "overflow": null,
            "overflow_x": null,
            "overflow_y": null,
            "padding": null,
            "right": null,
            "top": null,
            "visibility": null,
            "width": null
          }
        },
        "667b5fd5aadb43298324c00fa01e35af": {
          "model_module": "@jupyter-widgets/base",
          "model_name": "LayoutModel",
          "model_module_version": "1.2.0",
          "state": {
            "_model_module": "@jupyter-widgets/base",
            "_model_module_version": "1.2.0",
            "_model_name": "LayoutModel",
            "_view_count": null,
            "_view_module": "@jupyter-widgets/base",
            "_view_module_version": "1.2.0",
            "_view_name": "LayoutView",
            "align_content": null,
            "align_items": null,
            "align_self": null,
            "border": null,
            "bottom": null,
            "display": null,
            "flex": null,
            "flex_flow": null,
            "grid_area": null,
            "grid_auto_columns": null,
            "grid_auto_flow": null,
            "grid_auto_rows": null,
            "grid_column": null,
            "grid_gap": null,
            "grid_row": null,
            "grid_template_areas": null,
            "grid_template_columns": null,
            "grid_template_rows": null,
            "height": null,
            "justify_content": null,
            "justify_items": null,
            "left": null,
            "margin": null,
            "max_height": null,
            "max_width": null,
            "min_height": null,
            "min_width": null,
            "object_fit": null,
            "object_position": null,
            "order": null,
            "overflow": null,
            "overflow_x": null,
            "overflow_y": null,
            "padding": null,
            "right": null,
            "top": null,
            "visibility": null,
            "width": null
          }
        },
        "98c3b56c625f413abceb5d6dbf111458": {
          "model_module": "@jupyter-widgets/controls",
          "model_name": "DescriptionStyleModel",
          "model_module_version": "1.5.0",
          "state": {
            "_model_module": "@jupyter-widgets/controls",
            "_model_module_version": "1.5.0",
            "_model_name": "DescriptionStyleModel",
            "_view_count": null,
            "_view_module": "@jupyter-widgets/base",
            "_view_module_version": "1.2.0",
            "_view_name": "StyleView",
            "description_width": ""
          }
        },
        "d1a9f171772a4cfcae37fe20f43887e0": {
          "model_module": "@jupyter-widgets/base",
          "model_name": "LayoutModel",
          "model_module_version": "1.2.0",
          "state": {
            "_model_module": "@jupyter-widgets/base",
            "_model_module_version": "1.2.0",
            "_model_name": "LayoutModel",
            "_view_count": null,
            "_view_module": "@jupyter-widgets/base",
            "_view_module_version": "1.2.0",
            "_view_name": "LayoutView",
            "align_content": null,
            "align_items": null,
            "align_self": null,
            "border": null,
            "bottom": null,
            "display": null,
            "flex": null,
            "flex_flow": null,
            "grid_area": null,
            "grid_auto_columns": null,
            "grid_auto_flow": null,
            "grid_auto_rows": null,
            "grid_column": null,
            "grid_gap": null,
            "grid_row": null,
            "grid_template_areas": null,
            "grid_template_columns": null,
            "grid_template_rows": null,
            "height": null,
            "justify_content": null,
            "justify_items": null,
            "left": null,
            "margin": null,
            "max_height": null,
            "max_width": null,
            "min_height": null,
            "min_width": null,
            "object_fit": null,
            "object_position": null,
            "order": null,
            "overflow": null,
            "overflow_x": null,
            "overflow_y": null,
            "padding": null,
            "right": null,
            "top": null,
            "visibility": null,
            "width": null
          }
        },
        "b5f791be00c74a49a25b5d44e3f6a4f9": {
          "model_module": "@jupyter-widgets/controls",
          "model_name": "ProgressStyleModel",
          "model_module_version": "1.5.0",
          "state": {
            "_model_module": "@jupyter-widgets/controls",
            "_model_module_version": "1.5.0",
            "_model_name": "ProgressStyleModel",
            "_view_count": null,
            "_view_module": "@jupyter-widgets/base",
            "_view_module_version": "1.2.0",
            "_view_name": "StyleView",
            "bar_color": null,
            "description_width": ""
          }
        },
        "c0893025b78a413f85c4fd9487d11cba": {
          "model_module": "@jupyter-widgets/base",
          "model_name": "LayoutModel",
          "model_module_version": "1.2.0",
          "state": {
            "_model_module": "@jupyter-widgets/base",
            "_model_module_version": "1.2.0",
            "_model_name": "LayoutModel",
            "_view_count": null,
            "_view_module": "@jupyter-widgets/base",
            "_view_module_version": "1.2.0",
            "_view_name": "LayoutView",
            "align_content": null,
            "align_items": null,
            "align_self": null,
            "border": null,
            "bottom": null,
            "display": null,
            "flex": null,
            "flex_flow": null,
            "grid_area": null,
            "grid_auto_columns": null,
            "grid_auto_flow": null,
            "grid_auto_rows": null,
            "grid_column": null,
            "grid_gap": null,
            "grid_row": null,
            "grid_template_areas": null,
            "grid_template_columns": null,
            "grid_template_rows": null,
            "height": null,
            "justify_content": null,
            "justify_items": null,
            "left": null,
            "margin": null,
            "max_height": null,
            "max_width": null,
            "min_height": null,
            "min_width": null,
            "object_fit": null,
            "object_position": null,
            "order": null,
            "overflow": null,
            "overflow_x": null,
            "overflow_y": null,
            "padding": null,
            "right": null,
            "top": null,
            "visibility": null,
            "width": null
          }
        },
        "da2a860118fb495ba362316bea85c2c1": {
          "model_module": "@jupyter-widgets/controls",
          "model_name": "DescriptionStyleModel",
          "model_module_version": "1.5.0",
          "state": {
            "_model_module": "@jupyter-widgets/controls",
            "_model_module_version": "1.5.0",
            "_model_name": "DescriptionStyleModel",
            "_view_count": null,
            "_view_module": "@jupyter-widgets/base",
            "_view_module_version": "1.2.0",
            "_view_name": "StyleView",
            "description_width": ""
          }
        },
        "d772c11a50a84634b784ca76e8c28348": {
          "model_module": "@jupyter-widgets/controls",
          "model_name": "HBoxModel",
          "model_module_version": "1.5.0",
          "state": {
            "_dom_classes": [],
            "_model_module": "@jupyter-widgets/controls",
            "_model_module_version": "1.5.0",
            "_model_name": "HBoxModel",
            "_view_count": null,
            "_view_module": "@jupyter-widgets/controls",
            "_view_module_version": "1.5.0",
            "_view_name": "HBoxView",
            "box_style": "",
            "children": [
              "IPY_MODEL_e34454c970944a4b950502c60c7f0659",
              "IPY_MODEL_3e3c8a2ee9474803b0721c6ab2721de2",
              "IPY_MODEL_b6562d5619154f6ea9a2b008c00f3530"
            ],
            "layout": "IPY_MODEL_ede8f97d8c2144c5bf04a575c666fdf6"
          }
        },
        "e34454c970944a4b950502c60c7f0659": {
          "model_module": "@jupyter-widgets/controls",
          "model_name": "HTMLModel",
          "model_module_version": "1.5.0",
          "state": {
            "_dom_classes": [],
            "_model_module": "@jupyter-widgets/controls",
            "_model_module_version": "1.5.0",
            "_model_name": "HTMLModel",
            "_view_count": null,
            "_view_module": "@jupyter-widgets/controls",
            "_view_module_version": "1.5.0",
            "_view_name": "HTMLView",
            "description": "",
            "description_tooltip": null,
            "layout": "IPY_MODEL_a0db60fd3955486fb226efb6bbc3e928",
            "placeholder": "​",
            "style": "IPY_MODEL_09bc3243d65547869d4637ea89c2870b",
            "value": "model-00002-of-00003.safetensors: 100%"
          }
        },
        "3e3c8a2ee9474803b0721c6ab2721de2": {
          "model_module": "@jupyter-widgets/controls",
          "model_name": "FloatProgressModel",
          "model_module_version": "1.5.0",
          "state": {
            "_dom_classes": [],
            "_model_module": "@jupyter-widgets/controls",
            "_model_module_version": "1.5.0",
            "_model_name": "FloatProgressModel",
            "_view_count": null,
            "_view_module": "@jupyter-widgets/controls",
            "_view_module_version": "1.5.0",
            "_view_name": "ProgressView",
            "bar_style": "success",
            "description": "",
            "description_tooltip": null,
            "layout": "IPY_MODEL_9e57ba3250d54a219d9edaa3172b25b0",
            "max": 4999819336,
            "min": 0,
            "orientation": "horizontal",
            "style": "IPY_MODEL_2ad44cc071a5436da776fbe22c3837ba",
            "value": 4999819336
          }
        },
        "b6562d5619154f6ea9a2b008c00f3530": {
          "model_module": "@jupyter-widgets/controls",
          "model_name": "HTMLModel",
          "model_module_version": "1.5.0",
          "state": {
            "_dom_classes": [],
            "_model_module": "@jupyter-widgets/controls",
            "_model_module_version": "1.5.0",
            "_model_name": "HTMLModel",
            "_view_count": null,
            "_view_module": "@jupyter-widgets/controls",
            "_view_module_version": "1.5.0",
            "_view_name": "HTMLView",
            "description": "",
            "description_tooltip": null,
            "layout": "IPY_MODEL_7a681099998448918545a5e58f415be5",
            "placeholder": "​",
            "style": "IPY_MODEL_38de9a0fc88b4666b5579ab2296d35d3",
            "value": " 5.00G/5.00G [03:36&lt;00:00, 23.0MB/s]"
          }
        },
        "ede8f97d8c2144c5bf04a575c666fdf6": {
          "model_module": "@jupyter-widgets/base",
          "model_name": "LayoutModel",
          "model_module_version": "1.2.0",
          "state": {
            "_model_module": "@jupyter-widgets/base",
            "_model_module_version": "1.2.0",
            "_model_name": "LayoutModel",
            "_view_count": null,
            "_view_module": "@jupyter-widgets/base",
            "_view_module_version": "1.2.0",
            "_view_name": "LayoutView",
            "align_content": null,
            "align_items": null,
            "align_self": null,
            "border": null,
            "bottom": null,
            "display": null,
            "flex": null,
            "flex_flow": null,
            "grid_area": null,
            "grid_auto_columns": null,
            "grid_auto_flow": null,
            "grid_auto_rows": null,
            "grid_column": null,
            "grid_gap": null,
            "grid_row": null,
            "grid_template_areas": null,
            "grid_template_columns": null,
            "grid_template_rows": null,
            "height": null,
            "justify_content": null,
            "justify_items": null,
            "left": null,
            "margin": null,
            "max_height": null,
            "max_width": null,
            "min_height": null,
            "min_width": null,
            "object_fit": null,
            "object_position": null,
            "order": null,
            "overflow": null,
            "overflow_x": null,
            "overflow_y": null,
            "padding": null,
            "right": null,
            "top": null,
            "visibility": null,
            "width": null
          }
        },
        "a0db60fd3955486fb226efb6bbc3e928": {
          "model_module": "@jupyter-widgets/base",
          "model_name": "LayoutModel",
          "model_module_version": "1.2.0",
          "state": {
            "_model_module": "@jupyter-widgets/base",
            "_model_module_version": "1.2.0",
            "_model_name": "LayoutModel",
            "_view_count": null,
            "_view_module": "@jupyter-widgets/base",
            "_view_module_version": "1.2.0",
            "_view_name": "LayoutView",
            "align_content": null,
            "align_items": null,
            "align_self": null,
            "border": null,
            "bottom": null,
            "display": null,
            "flex": null,
            "flex_flow": null,
            "grid_area": null,
            "grid_auto_columns": null,
            "grid_auto_flow": null,
            "grid_auto_rows": null,
            "grid_column": null,
            "grid_gap": null,
            "grid_row": null,
            "grid_template_areas": null,
            "grid_template_columns": null,
            "grid_template_rows": null,
            "height": null,
            "justify_content": null,
            "justify_items": null,
            "left": null,
            "margin": null,
            "max_height": null,
            "max_width": null,
            "min_height": null,
            "min_width": null,
            "object_fit": null,
            "object_position": null,
            "order": null,
            "overflow": null,
            "overflow_x": null,
            "overflow_y": null,
            "padding": null,
            "right": null,
            "top": null,
            "visibility": null,
            "width": null
          }
        },
        "09bc3243d65547869d4637ea89c2870b": {
          "model_module": "@jupyter-widgets/controls",
          "model_name": "DescriptionStyleModel",
          "model_module_version": "1.5.0",
          "state": {
            "_model_module": "@jupyter-widgets/controls",
            "_model_module_version": "1.5.0",
            "_model_name": "DescriptionStyleModel",
            "_view_count": null,
            "_view_module": "@jupyter-widgets/base",
            "_view_module_version": "1.2.0",
            "_view_name": "StyleView",
            "description_width": ""
          }
        },
        "9e57ba3250d54a219d9edaa3172b25b0": {
          "model_module": "@jupyter-widgets/base",
          "model_name": "LayoutModel",
          "model_module_version": "1.2.0",
          "state": {
            "_model_module": "@jupyter-widgets/base",
            "_model_module_version": "1.2.0",
            "_model_name": "LayoutModel",
            "_view_count": null,
            "_view_module": "@jupyter-widgets/base",
            "_view_module_version": "1.2.0",
            "_view_name": "LayoutView",
            "align_content": null,
            "align_items": null,
            "align_self": null,
            "border": null,
            "bottom": null,
            "display": null,
            "flex": null,
            "flex_flow": null,
            "grid_area": null,
            "grid_auto_columns": null,
            "grid_auto_flow": null,
            "grid_auto_rows": null,
            "grid_column": null,
            "grid_gap": null,
            "grid_row": null,
            "grid_template_areas": null,
            "grid_template_columns": null,
            "grid_template_rows": null,
            "height": null,
            "justify_content": null,
            "justify_items": null,
            "left": null,
            "margin": null,
            "max_height": null,
            "max_width": null,
            "min_height": null,
            "min_width": null,
            "object_fit": null,
            "object_position": null,
            "order": null,
            "overflow": null,
            "overflow_x": null,
            "overflow_y": null,
            "padding": null,
            "right": null,
            "top": null,
            "visibility": null,
            "width": null
          }
        },
        "2ad44cc071a5436da776fbe22c3837ba": {
          "model_module": "@jupyter-widgets/controls",
          "model_name": "ProgressStyleModel",
          "model_module_version": "1.5.0",
          "state": {
            "_model_module": "@jupyter-widgets/controls",
            "_model_module_version": "1.5.0",
            "_model_name": "ProgressStyleModel",
            "_view_count": null,
            "_view_module": "@jupyter-widgets/base",
            "_view_module_version": "1.2.0",
            "_view_name": "StyleView",
            "bar_color": null,
            "description_width": ""
          }
        },
        "7a681099998448918545a5e58f415be5": {
          "model_module": "@jupyter-widgets/base",
          "model_name": "LayoutModel",
          "model_module_version": "1.2.0",
          "state": {
            "_model_module": "@jupyter-widgets/base",
            "_model_module_version": "1.2.0",
            "_model_name": "LayoutModel",
            "_view_count": null,
            "_view_module": "@jupyter-widgets/base",
            "_view_module_version": "1.2.0",
            "_view_name": "LayoutView",
            "align_content": null,
            "align_items": null,
            "align_self": null,
            "border": null,
            "bottom": null,
            "display": null,
            "flex": null,
            "flex_flow": null,
            "grid_area": null,
            "grid_auto_columns": null,
            "grid_auto_flow": null,
            "grid_auto_rows": null,
            "grid_column": null,
            "grid_gap": null,
            "grid_row": null,
            "grid_template_areas": null,
            "grid_template_columns": null,
            "grid_template_rows": null,
            "height": null,
            "justify_content": null,
            "justify_items": null,
            "left": null,
            "margin": null,
            "max_height": null,
            "max_width": null,
            "min_height": null,
            "min_width": null,
            "object_fit": null,
            "object_position": null,
            "order": null,
            "overflow": null,
            "overflow_x": null,
            "overflow_y": null,
            "padding": null,
            "right": null,
            "top": null,
            "visibility": null,
            "width": null
          }
        },
        "38de9a0fc88b4666b5579ab2296d35d3": {
          "model_module": "@jupyter-widgets/controls",
          "model_name": "DescriptionStyleModel",
          "model_module_version": "1.5.0",
          "state": {
            "_model_module": "@jupyter-widgets/controls",
            "_model_module_version": "1.5.0",
            "_model_name": "DescriptionStyleModel",
            "_view_count": null,
            "_view_module": "@jupyter-widgets/base",
            "_view_module_version": "1.2.0",
            "_view_name": "StyleView",
            "description_width": ""
          }
        },
        "cb12a533aa1e4c7597c920608b309e2d": {
          "model_module": "@jupyter-widgets/controls",
          "model_name": "HBoxModel",
          "model_module_version": "1.5.0",
          "state": {
            "_dom_classes": [],
            "_model_module": "@jupyter-widgets/controls",
            "_model_module_version": "1.5.0",
            "_model_name": "HBoxModel",
            "_view_count": null,
            "_view_module": "@jupyter-widgets/controls",
            "_view_module_version": "1.5.0",
            "_view_name": "HBoxView",
            "box_style": "",
            "children": [
              "IPY_MODEL_751da56562f34c038f55056b806a7ad0",
              "IPY_MODEL_55d062b3bfcd423083513d4828048e3d",
              "IPY_MODEL_3b824f2bb2d6445c98d5bd6e3631f107"
            ],
            "layout": "IPY_MODEL_56aa3e50dad9414c9fd687ee629b29b5"
          }
        },
        "751da56562f34c038f55056b806a7ad0": {
          "model_module": "@jupyter-widgets/controls",
          "model_name": "HTMLModel",
          "model_module_version": "1.5.0",
          "state": {
            "_dom_classes": [],
            "_model_module": "@jupyter-widgets/controls",
            "_model_module_version": "1.5.0",
            "_model_name": "HTMLModel",
            "_view_count": null,
            "_view_module": "@jupyter-widgets/controls",
            "_view_module_version": "1.5.0",
            "_view_name": "HTMLView",
            "description": "",
            "description_tooltip": null,
            "layout": "IPY_MODEL_844ec4f26a2c45be961898bbb39b1550",
            "placeholder": "​",
            "style": "IPY_MODEL_04d595e9d4c043738246e0571567aa36",
            "value": "Upload 3 LFS files: 100%"
          }
        },
        "55d062b3bfcd423083513d4828048e3d": {
          "model_module": "@jupyter-widgets/controls",
          "model_name": "FloatProgressModel",
          "model_module_version": "1.5.0",
          "state": {
            "_dom_classes": [],
            "_model_module": "@jupyter-widgets/controls",
            "_model_module_version": "1.5.0",
            "_model_name": "FloatProgressModel",
            "_view_count": null,
            "_view_module": "@jupyter-widgets/controls",
            "_view_module_version": "1.5.0",
            "_view_name": "ProgressView",
            "bar_style": "success",
            "description": "",
            "description_tooltip": null,
            "layout": "IPY_MODEL_af6bf68e40144d19a0730c572a06bfd5",
            "max": 3,
            "min": 0,
            "orientation": "horizontal",
            "style": "IPY_MODEL_0656de1f0ec74f2a99c751e0f2681d72",
            "value": 3
          }
        },
        "3b824f2bb2d6445c98d5bd6e3631f107": {
          "model_module": "@jupyter-widgets/controls",
          "model_name": "HTMLModel",
          "model_module_version": "1.5.0",
          "state": {
            "_dom_classes": [],
            "_model_module": "@jupyter-widgets/controls",
            "_model_module_version": "1.5.0",
            "_model_name": "HTMLModel",
            "_view_count": null,
            "_view_module": "@jupyter-widgets/controls",
            "_view_module_version": "1.5.0",
            "_view_name": "HTMLView",
            "description": "",
            "description_tooltip": null,
            "layout": "IPY_MODEL_48644291a3264c08a722789e83427978",
            "placeholder": "​",
            "style": "IPY_MODEL_2db2e05462f24d318c04bfa0bef9c056",
            "value": " 3/3 [03:37&lt;00:00, 50.73s/it]"
          }
        },
        "56aa3e50dad9414c9fd687ee629b29b5": {
          "model_module": "@jupyter-widgets/base",
          "model_name": "LayoutModel",
          "model_module_version": "1.2.0",
          "state": {
            "_model_module": "@jupyter-widgets/base",
            "_model_module_version": "1.2.0",
            "_model_name": "LayoutModel",
            "_view_count": null,
            "_view_module": "@jupyter-widgets/base",
            "_view_module_version": "1.2.0",
            "_view_name": "LayoutView",
            "align_content": null,
            "align_items": null,
            "align_self": null,
            "border": null,
            "bottom": null,
            "display": null,
            "flex": null,
            "flex_flow": null,
            "grid_area": null,
            "grid_auto_columns": null,
            "grid_auto_flow": null,
            "grid_auto_rows": null,
            "grid_column": null,
            "grid_gap": null,
            "grid_row": null,
            "grid_template_areas": null,
            "grid_template_columns": null,
            "grid_template_rows": null,
            "height": null,
            "justify_content": null,
            "justify_items": null,
            "left": null,
            "margin": null,
            "max_height": null,
            "max_width": null,
            "min_height": null,
            "min_width": null,
            "object_fit": null,
            "object_position": null,
            "order": null,
            "overflow": null,
            "overflow_x": null,
            "overflow_y": null,
            "padding": null,
            "right": null,
            "top": null,
            "visibility": null,
            "width": null
          }
        },
        "844ec4f26a2c45be961898bbb39b1550": {
          "model_module": "@jupyter-widgets/base",
          "model_name": "LayoutModel",
          "model_module_version": "1.2.0",
          "state": {
            "_model_module": "@jupyter-widgets/base",
            "_model_module_version": "1.2.0",
            "_model_name": "LayoutModel",
            "_view_count": null,
            "_view_module": "@jupyter-widgets/base",
            "_view_module_version": "1.2.0",
            "_view_name": "LayoutView",
            "align_content": null,
            "align_items": null,
            "align_self": null,
            "border": null,
            "bottom": null,
            "display": null,
            "flex": null,
            "flex_flow": null,
            "grid_area": null,
            "grid_auto_columns": null,
            "grid_auto_flow": null,
            "grid_auto_rows": null,
            "grid_column": null,
            "grid_gap": null,
            "grid_row": null,
            "grid_template_areas": null,
            "grid_template_columns": null,
            "grid_template_rows": null,
            "height": null,
            "justify_content": null,
            "justify_items": null,
            "left": null,
            "margin": null,
            "max_height": null,
            "max_width": null,
            "min_height": null,
            "min_width": null,
            "object_fit": null,
            "object_position": null,
            "order": null,
            "overflow": null,
            "overflow_x": null,
            "overflow_y": null,
            "padding": null,
            "right": null,
            "top": null,
            "visibility": null,
            "width": null
          }
        },
        "04d595e9d4c043738246e0571567aa36": {
          "model_module": "@jupyter-widgets/controls",
          "model_name": "DescriptionStyleModel",
          "model_module_version": "1.5.0",
          "state": {
            "_model_module": "@jupyter-widgets/controls",
            "_model_module_version": "1.5.0",
            "_model_name": "DescriptionStyleModel",
            "_view_count": null,
            "_view_module": "@jupyter-widgets/base",
            "_view_module_version": "1.2.0",
            "_view_name": "StyleView",
            "description_width": ""
          }
        },
        "af6bf68e40144d19a0730c572a06bfd5": {
          "model_module": "@jupyter-widgets/base",
          "model_name": "LayoutModel",
          "model_module_version": "1.2.0",
          "state": {
            "_model_module": "@jupyter-widgets/base",
            "_model_module_version": "1.2.0",
            "_model_name": "LayoutModel",
            "_view_count": null,
            "_view_module": "@jupyter-widgets/base",
            "_view_module_version": "1.2.0",
            "_view_name": "LayoutView",
            "align_content": null,
            "align_items": null,
            "align_self": null,
            "border": null,
            "bottom": null,
            "display": null,
            "flex": null,
            "flex_flow": null,
            "grid_area": null,
            "grid_auto_columns": null,
            "grid_auto_flow": null,
            "grid_auto_rows": null,
            "grid_column": null,
            "grid_gap": null,
            "grid_row": null,
            "grid_template_areas": null,
            "grid_template_columns": null,
            "grid_template_rows": null,
            "height": null,
            "justify_content": null,
            "justify_items": null,
            "left": null,
            "margin": null,
            "max_height": null,
            "max_width": null,
            "min_height": null,
            "min_width": null,
            "object_fit": null,
            "object_position": null,
            "order": null,
            "overflow": null,
            "overflow_x": null,
            "overflow_y": null,
            "padding": null,
            "right": null,
            "top": null,
            "visibility": null,
            "width": null
          }
        },
        "0656de1f0ec74f2a99c751e0f2681d72": {
          "model_module": "@jupyter-widgets/controls",
          "model_name": "ProgressStyleModel",
          "model_module_version": "1.5.0",
          "state": {
            "_model_module": "@jupyter-widgets/controls",
            "_model_module_version": "1.5.0",
            "_model_name": "ProgressStyleModel",
            "_view_count": null,
            "_view_module": "@jupyter-widgets/base",
            "_view_module_version": "1.2.0",
            "_view_name": "StyleView",
            "bar_color": null,
            "description_width": ""
          }
        },
        "48644291a3264c08a722789e83427978": {
          "model_module": "@jupyter-widgets/base",
          "model_name": "LayoutModel",
          "model_module_version": "1.2.0",
          "state": {
            "_model_module": "@jupyter-widgets/base",
            "_model_module_version": "1.2.0",
            "_model_name": "LayoutModel",
            "_view_count": null,
            "_view_module": "@jupyter-widgets/base",
            "_view_module_version": "1.2.0",
            "_view_name": "LayoutView",
            "align_content": null,
            "align_items": null,
            "align_self": null,
            "border": null,
            "bottom": null,
            "display": null,
            "flex": null,
            "flex_flow": null,
            "grid_area": null,
            "grid_auto_columns": null,
            "grid_auto_flow": null,
            "grid_auto_rows": null,
            "grid_column": null,
            "grid_gap": null,
            "grid_row": null,
            "grid_template_areas": null,
            "grid_template_columns": null,
            "grid_template_rows": null,
            "height": null,
            "justify_content": null,
            "justify_items": null,
            "left": null,
            "margin": null,
            "max_height": null,
            "max_width": null,
            "min_height": null,
            "min_width": null,
            "object_fit": null,
            "object_position": null,
            "order": null,
            "overflow": null,
            "overflow_x": null,
            "overflow_y": null,
            "padding": null,
            "right": null,
            "top": null,
            "visibility": null,
            "width": null
          }
        },
        "2db2e05462f24d318c04bfa0bef9c056": {
          "model_module": "@jupyter-widgets/controls",
          "model_name": "DescriptionStyleModel",
          "model_module_version": "1.5.0",
          "state": {
            "_model_module": "@jupyter-widgets/controls",
            "_model_module_version": "1.5.0",
            "_model_name": "DescriptionStyleModel",
            "_view_count": null,
            "_view_module": "@jupyter-widgets/base",
            "_view_module_version": "1.2.0",
            "_view_name": "StyleView",
            "description_width": ""
          }
        },
        "15fde77016bd4033a44a39b85768e0b3": {
          "model_module": "@jupyter-widgets/controls",
          "model_name": "HBoxModel",
          "model_module_version": "1.5.0",
          "state": {
            "_dom_classes": [],
            "_model_module": "@jupyter-widgets/controls",
            "_model_module_version": "1.5.0",
            "_model_name": "HBoxModel",
            "_view_count": null,
            "_view_module": "@jupyter-widgets/controls",
            "_view_module_version": "1.5.0",
            "_view_name": "HBoxView",
            "box_style": "",
            "children": [
              "IPY_MODEL_e8abb05f2ab949e1a85aff48cea34f2e",
              "IPY_MODEL_e85ca5dc68be4747aac6f7d7666cf31b",
              "IPY_MODEL_ea497878bf35481aa0ff036f9e0636f4"
            ],
            "layout": "IPY_MODEL_a6699745344e42d0a93ad013b04a12be"
          }
        },
        "e8abb05f2ab949e1a85aff48cea34f2e": {
          "model_module": "@jupyter-widgets/controls",
          "model_name": "HTMLModel",
          "model_module_version": "1.5.0",
          "state": {
            "_dom_classes": [],
            "_model_module": "@jupyter-widgets/controls",
            "_model_module_version": "1.5.0",
            "_model_name": "HTMLModel",
            "_view_count": null,
            "_view_module": "@jupyter-widgets/controls",
            "_view_module_version": "1.5.0",
            "_view_name": "HTMLView",
            "description": "",
            "description_tooltip": null,
            "layout": "IPY_MODEL_a44496387eae4ec1863ebfc66cdaae3f",
            "placeholder": "​",
            "style": "IPY_MODEL_100971c510a74464bea17083518dbfc7",
            "value": "model-00003-of-00003.safetensors: 100%"
          }
        },
        "e85ca5dc68be4747aac6f7d7666cf31b": {
          "model_module": "@jupyter-widgets/controls",
          "model_name": "FloatProgressModel",
          "model_module_version": "1.5.0",
          "state": {
            "_dom_classes": [],
            "_model_module": "@jupyter-widgets/controls",
            "_model_module_version": "1.5.0",
            "_model_name": "FloatProgressModel",
            "_view_count": null,
            "_view_module": "@jupyter-widgets/controls",
            "_view_module_version": "1.5.0",
            "_view_name": "ProgressView",
            "bar_style": "success",
            "description": "",
            "description_tooltip": null,
            "layout": "IPY_MODEL_c2d142439a3b42b98a056e79833f0403",
            "max": 4540516344,
            "min": 0,
            "orientation": "horizontal",
            "style": "IPY_MODEL_85b5acdddf92480a81f9d8a6a713887e",
            "value": 4540516344
          }
        },
        "ea497878bf35481aa0ff036f9e0636f4": {
          "model_module": "@jupyter-widgets/controls",
          "model_name": "HTMLModel",
          "model_module_version": "1.5.0",
          "state": {
            "_dom_classes": [],
            "_model_module": "@jupyter-widgets/controls",
            "_model_module_version": "1.5.0",
            "_model_name": "HTMLModel",
            "_view_count": null,
            "_view_module": "@jupyter-widgets/controls",
            "_view_module_version": "1.5.0",
            "_view_name": "HTMLView",
            "description": "",
            "description_tooltip": null,
            "layout": "IPY_MODEL_02df5a2f977f40eeab45f3d516fd1267",
            "placeholder": "​",
            "style": "IPY_MODEL_2a5f0988eca641938eaa8b6f457e3a32",
            "value": " 4.54G/4.54G [03:17&lt;00:00, 21.0MB/s]"
          }
        },
        "a6699745344e42d0a93ad013b04a12be": {
          "model_module": "@jupyter-widgets/base",
          "model_name": "LayoutModel",
          "model_module_version": "1.2.0",
          "state": {
            "_model_module": "@jupyter-widgets/base",
            "_model_module_version": "1.2.0",
            "_model_name": "LayoutModel",
            "_view_count": null,
            "_view_module": "@jupyter-widgets/base",
            "_view_module_version": "1.2.0",
            "_view_name": "LayoutView",
            "align_content": null,
            "align_items": null,
            "align_self": null,
            "border": null,
            "bottom": null,
            "display": null,
            "flex": null,
            "flex_flow": null,
            "grid_area": null,
            "grid_auto_columns": null,
            "grid_auto_flow": null,
            "grid_auto_rows": null,
            "grid_column": null,
            "grid_gap": null,
            "grid_row": null,
            "grid_template_areas": null,
            "grid_template_columns": null,
            "grid_template_rows": null,
            "height": null,
            "justify_content": null,
            "justify_items": null,
            "left": null,
            "margin": null,
            "max_height": null,
            "max_width": null,
            "min_height": null,
            "min_width": null,
            "object_fit": null,
            "object_position": null,
            "order": null,
            "overflow": null,
            "overflow_x": null,
            "overflow_y": null,
            "padding": null,
            "right": null,
            "top": null,
            "visibility": null,
            "width": null
          }
        },
        "a44496387eae4ec1863ebfc66cdaae3f": {
          "model_module": "@jupyter-widgets/base",
          "model_name": "LayoutModel",
          "model_module_version": "1.2.0",
          "state": {
            "_model_module": "@jupyter-widgets/base",
            "_model_module_version": "1.2.0",
            "_model_name": "LayoutModel",
            "_view_count": null,
            "_view_module": "@jupyter-widgets/base",
            "_view_module_version": "1.2.0",
            "_view_name": "LayoutView",
            "align_content": null,
            "align_items": null,
            "align_self": null,
            "border": null,
            "bottom": null,
            "display": null,
            "flex": null,
            "flex_flow": null,
            "grid_area": null,
            "grid_auto_columns": null,
            "grid_auto_flow": null,
            "grid_auto_rows": null,
            "grid_column": null,
            "grid_gap": null,
            "grid_row": null,
            "grid_template_areas": null,
            "grid_template_columns": null,
            "grid_template_rows": null,
            "height": null,
            "justify_content": null,
            "justify_items": null,
            "left": null,
            "margin": null,
            "max_height": null,
            "max_width": null,
            "min_height": null,
            "min_width": null,
            "object_fit": null,
            "object_position": null,
            "order": null,
            "overflow": null,
            "overflow_x": null,
            "overflow_y": null,
            "padding": null,
            "right": null,
            "top": null,
            "visibility": null,
            "width": null
          }
        },
        "100971c510a74464bea17083518dbfc7": {
          "model_module": "@jupyter-widgets/controls",
          "model_name": "DescriptionStyleModel",
          "model_module_version": "1.5.0",
          "state": {
            "_model_module": "@jupyter-widgets/controls",
            "_model_module_version": "1.5.0",
            "_model_name": "DescriptionStyleModel",
            "_view_count": null,
            "_view_module": "@jupyter-widgets/base",
            "_view_module_version": "1.2.0",
            "_view_name": "StyleView",
            "description_width": ""
          }
        },
        "c2d142439a3b42b98a056e79833f0403": {
          "model_module": "@jupyter-widgets/base",
          "model_name": "LayoutModel",
          "model_module_version": "1.2.0",
          "state": {
            "_model_module": "@jupyter-widgets/base",
            "_model_module_version": "1.2.0",
            "_model_name": "LayoutModel",
            "_view_count": null,
            "_view_module": "@jupyter-widgets/base",
            "_view_module_version": "1.2.0",
            "_view_name": "LayoutView",
            "align_content": null,
            "align_items": null,
            "align_self": null,
            "border": null,
            "bottom": null,
            "display": null,
            "flex": null,
            "flex_flow": null,
            "grid_area": null,
            "grid_auto_columns": null,
            "grid_auto_flow": null,
            "grid_auto_rows": null,
            "grid_column": null,
            "grid_gap": null,
            "grid_row": null,
            "grid_template_areas": null,
            "grid_template_columns": null,
            "grid_template_rows": null,
            "height": null,
            "justify_content": null,
            "justify_items": null,
            "left": null,
            "margin": null,
            "max_height": null,
            "max_width": null,
            "min_height": null,
            "min_width": null,
            "object_fit": null,
            "object_position": null,
            "order": null,
            "overflow": null,
            "overflow_x": null,
            "overflow_y": null,
            "padding": null,
            "right": null,
            "top": null,
            "visibility": null,
            "width": null
          }
        },
        "85b5acdddf92480a81f9d8a6a713887e": {
          "model_module": "@jupyter-widgets/controls",
          "model_name": "ProgressStyleModel",
          "model_module_version": "1.5.0",
          "state": {
            "_model_module": "@jupyter-widgets/controls",
            "_model_module_version": "1.5.0",
            "_model_name": "ProgressStyleModel",
            "_view_count": null,
            "_view_module": "@jupyter-widgets/base",
            "_view_module_version": "1.2.0",
            "_view_name": "StyleView",
            "bar_color": null,
            "description_width": ""
          }
        },
        "02df5a2f977f40eeab45f3d516fd1267": {
          "model_module": "@jupyter-widgets/base",
          "model_name": "LayoutModel",
          "model_module_version": "1.2.0",
          "state": {
            "_model_module": "@jupyter-widgets/base",
            "_model_module_version": "1.2.0",
            "_model_name": "LayoutModel",
            "_view_count": null,
            "_view_module": "@jupyter-widgets/base",
            "_view_module_version": "1.2.0",
            "_view_name": "LayoutView",
            "align_content": null,
            "align_items": null,
            "align_self": null,
            "border": null,
            "bottom": null,
            "display": null,
            "flex": null,
            "flex_flow": null,
            "grid_area": null,
            "grid_auto_columns": null,
            "grid_auto_flow": null,
            "grid_auto_rows": null,
            "grid_column": null,
            "grid_gap": null,
            "grid_row": null,
            "grid_template_areas": null,
            "grid_template_columns": null,
            "grid_template_rows": null,
            "height": null,
            "justify_content": null,
            "justify_items": null,
            "left": null,
            "margin": null,
            "max_height": null,
            "max_width": null,
            "min_height": null,
            "min_width": null,
            "object_fit": null,
            "object_position": null,
            "order": null,
            "overflow": null,
            "overflow_x": null,
            "overflow_y": null,
            "padding": null,
            "right": null,
            "top": null,
            "visibility": null,
            "width": null
          }
        },
        "2a5f0988eca641938eaa8b6f457e3a32": {
          "model_module": "@jupyter-widgets/controls",
          "model_name": "DescriptionStyleModel",
          "model_module_version": "1.5.0",
          "state": {
            "_model_module": "@jupyter-widgets/controls",
            "_model_module_version": "1.5.0",
            "_model_name": "DescriptionStyleModel",
            "_view_count": null,
            "_view_module": "@jupyter-widgets/base",
            "_view_module_version": "1.2.0",
            "_view_name": "StyleView",
            "description_width": ""
          }
        },
        "e22291fae45b4818821b907a4d65828c": {
          "model_module": "@jupyter-widgets/controls",
          "model_name": "HBoxModel",
          "model_module_version": "1.5.0",
          "state": {
            "_dom_classes": [],
            "_model_module": "@jupyter-widgets/controls",
            "_model_module_version": "1.5.0",
            "_model_name": "HBoxModel",
            "_view_count": null,
            "_view_module": "@jupyter-widgets/controls",
            "_view_module_version": "1.5.0",
            "_view_name": "HBoxView",
            "box_style": "",
            "children": [
              "IPY_MODEL_e10dfd93e05c497c94a608ea1fe2fe90",
              "IPY_MODEL_7ad10f8a9647402082a05498ba750e2e",
              "IPY_MODEL_5d88e279e7a24b40a9424b20b8653150"
            ],
            "layout": "IPY_MODEL_1ff1efc399374fa2a9e4d38bc587b20d"
          }
        },
        "e10dfd93e05c497c94a608ea1fe2fe90": {
          "model_module": "@jupyter-widgets/controls",
          "model_name": "HTMLModel",
          "model_module_version": "1.5.0",
          "state": {
            "_dom_classes": [],
            "_model_module": "@jupyter-widgets/controls",
            "_model_module_version": "1.5.0",
            "_model_name": "HTMLModel",
            "_view_count": null,
            "_view_module": "@jupyter-widgets/controls",
            "_view_module_version": "1.5.0",
            "_view_name": "HTMLView",
            "description": "",
            "description_tooltip": null,
            "layout": "IPY_MODEL_21384d04bf3a4291a4170770f279b072",
            "placeholder": "​",
            "style": "IPY_MODEL_c355f1a1705e4248bc87829c9bc57a68",
            "value": "model-00001-of-00003.safetensors: 100%"
          }
        },
        "7ad10f8a9647402082a05498ba750e2e": {
          "model_module": "@jupyter-widgets/controls",
          "model_name": "FloatProgressModel",
          "model_module_version": "1.5.0",
          "state": {
            "_dom_classes": [],
            "_model_module": "@jupyter-widgets/controls",
            "_model_module_version": "1.5.0",
            "_model_name": "FloatProgressModel",
            "_view_count": null,
            "_view_module": "@jupyter-widgets/controls",
            "_view_module_version": "1.5.0",
            "_view_name": "ProgressView",
            "bar_style": "success",
            "description": "",
            "description_tooltip": null,
            "layout": "IPY_MODEL_434834da13454ff5b98a2f7a8dec0c55",
            "max": 4943162336,
            "min": 0,
            "orientation": "horizontal",
            "style": "IPY_MODEL_de1ddc3f846d409fa99e9e48750a910c",
            "value": 4943162336
          }
        },
        "5d88e279e7a24b40a9424b20b8653150": {
          "model_module": "@jupyter-widgets/controls",
          "model_name": "HTMLModel",
          "model_module_version": "1.5.0",
          "state": {
            "_dom_classes": [],
            "_model_module": "@jupyter-widgets/controls",
            "_model_module_version": "1.5.0",
            "_model_name": "HTMLModel",
            "_view_count": null,
            "_view_module": "@jupyter-widgets/controls",
            "_view_module_version": "1.5.0",
            "_view_name": "HTMLView",
            "description": "",
            "description_tooltip": null,
            "layout": "IPY_MODEL_4478c718eb914ca9a5d2525c2061b982",
            "placeholder": "​",
            "style": "IPY_MODEL_f45e576d8cb2499ba93265419ab017dc",
            "value": " 4.94G/4.94G [03:37&lt;00:00, 32.3MB/s]"
          }
        },
        "1ff1efc399374fa2a9e4d38bc587b20d": {
          "model_module": "@jupyter-widgets/base",
          "model_name": "LayoutModel",
          "model_module_version": "1.2.0",
          "state": {
            "_model_module": "@jupyter-widgets/base",
            "_model_module_version": "1.2.0",
            "_model_name": "LayoutModel",
            "_view_count": null,
            "_view_module": "@jupyter-widgets/base",
            "_view_module_version": "1.2.0",
            "_view_name": "LayoutView",
            "align_content": null,
            "align_items": null,
            "align_self": null,
            "border": null,
            "bottom": null,
            "display": null,
            "flex": null,
            "flex_flow": null,
            "grid_area": null,
            "grid_auto_columns": null,
            "grid_auto_flow": null,
            "grid_auto_rows": null,
            "grid_column": null,
            "grid_gap": null,
            "grid_row": null,
            "grid_template_areas": null,
            "grid_template_columns": null,
            "grid_template_rows": null,
            "height": null,
            "justify_content": null,
            "justify_items": null,
            "left": null,
            "margin": null,
            "max_height": null,
            "max_width": null,
            "min_height": null,
            "min_width": null,
            "object_fit": null,
            "object_position": null,
            "order": null,
            "overflow": null,
            "overflow_x": null,
            "overflow_y": null,
            "padding": null,
            "right": null,
            "top": null,
            "visibility": null,
            "width": null
          }
        },
        "21384d04bf3a4291a4170770f279b072": {
          "model_module": "@jupyter-widgets/base",
          "model_name": "LayoutModel",
          "model_module_version": "1.2.0",
          "state": {
            "_model_module": "@jupyter-widgets/base",
            "_model_module_version": "1.2.0",
            "_model_name": "LayoutModel",
            "_view_count": null,
            "_view_module": "@jupyter-widgets/base",
            "_view_module_version": "1.2.0",
            "_view_name": "LayoutView",
            "align_content": null,
            "align_items": null,
            "align_self": null,
            "border": null,
            "bottom": null,
            "display": null,
            "flex": null,
            "flex_flow": null,
            "grid_area": null,
            "grid_auto_columns": null,
            "grid_auto_flow": null,
            "grid_auto_rows": null,
            "grid_column": null,
            "grid_gap": null,
            "grid_row": null,
            "grid_template_areas": null,
            "grid_template_columns": null,
            "grid_template_rows": null,
            "height": null,
            "justify_content": null,
            "justify_items": null,
            "left": null,
            "margin": null,
            "max_height": null,
            "max_width": null,
            "min_height": null,
            "min_width": null,
            "object_fit": null,
            "object_position": null,
            "order": null,
            "overflow": null,
            "overflow_x": null,
            "overflow_y": null,
            "padding": null,
            "right": null,
            "top": null,
            "visibility": null,
            "width": null
          }
        },
        "c355f1a1705e4248bc87829c9bc57a68": {
          "model_module": "@jupyter-widgets/controls",
          "model_name": "DescriptionStyleModel",
          "model_module_version": "1.5.0",
          "state": {
            "_model_module": "@jupyter-widgets/controls",
            "_model_module_version": "1.5.0",
            "_model_name": "DescriptionStyleModel",
            "_view_count": null,
            "_view_module": "@jupyter-widgets/base",
            "_view_module_version": "1.2.0",
            "_view_name": "StyleView",
            "description_width": ""
          }
        },
        "434834da13454ff5b98a2f7a8dec0c55": {
          "model_module": "@jupyter-widgets/base",
          "model_name": "LayoutModel",
          "model_module_version": "1.2.0",
          "state": {
            "_model_module": "@jupyter-widgets/base",
            "_model_module_version": "1.2.0",
            "_model_name": "LayoutModel",
            "_view_count": null,
            "_view_module": "@jupyter-widgets/base",
            "_view_module_version": "1.2.0",
            "_view_name": "LayoutView",
            "align_content": null,
            "align_items": null,
            "align_self": null,
            "border": null,
            "bottom": null,
            "display": null,
            "flex": null,
            "flex_flow": null,
            "grid_area": null,
            "grid_auto_columns": null,
            "grid_auto_flow": null,
            "grid_auto_rows": null,
            "grid_column": null,
            "grid_gap": null,
            "grid_row": null,
            "grid_template_areas": null,
            "grid_template_columns": null,
            "grid_template_rows": null,
            "height": null,
            "justify_content": null,
            "justify_items": null,
            "left": null,
            "margin": null,
            "max_height": null,
            "max_width": null,
            "min_height": null,
            "min_width": null,
            "object_fit": null,
            "object_position": null,
            "order": null,
            "overflow": null,
            "overflow_x": null,
            "overflow_y": null,
            "padding": null,
            "right": null,
            "top": null,
            "visibility": null,
            "width": null
          }
        },
        "de1ddc3f846d409fa99e9e48750a910c": {
          "model_module": "@jupyter-widgets/controls",
          "model_name": "ProgressStyleModel",
          "model_module_version": "1.5.0",
          "state": {
            "_model_module": "@jupyter-widgets/controls",
            "_model_module_version": "1.5.0",
            "_model_name": "ProgressStyleModel",
            "_view_count": null,
            "_view_module": "@jupyter-widgets/base",
            "_view_module_version": "1.2.0",
            "_view_name": "StyleView",
            "bar_color": null,
            "description_width": ""
          }
        },
        "4478c718eb914ca9a5d2525c2061b982": {
          "model_module": "@jupyter-widgets/base",
          "model_name": "LayoutModel",
          "model_module_version": "1.2.0",
          "state": {
            "_model_module": "@jupyter-widgets/base",
            "_model_module_version": "1.2.0",
            "_model_name": "LayoutModel",
            "_view_count": null,
            "_view_module": "@jupyter-widgets/base",
            "_view_module_version": "1.2.0",
            "_view_name": "LayoutView",
            "align_content": null,
            "align_items": null,
            "align_self": null,
            "border": null,
            "bottom": null,
            "display": null,
            "flex": null,
            "flex_flow": null,
            "grid_area": null,
            "grid_auto_columns": null,
            "grid_auto_flow": null,
            "grid_auto_rows": null,
            "grid_column": null,
            "grid_gap": null,
            "grid_row": null,
            "grid_template_areas": null,
            "grid_template_columns": null,
            "grid_template_rows": null,
            "height": null,
            "justify_content": null,
            "justify_items": null,
            "left": null,
            "margin": null,
            "max_height": null,
            "max_width": null,
            "min_height": null,
            "min_width": null,
            "object_fit": null,
            "object_position": null,
            "order": null,
            "overflow": null,
            "overflow_x": null,
            "overflow_y": null,
            "padding": null,
            "right": null,
            "top": null,
            "visibility": null,
            "width": null
          }
        },
        "f45e576d8cb2499ba93265419ab017dc": {
          "model_module": "@jupyter-widgets/controls",
          "model_name": "DescriptionStyleModel",
          "model_module_version": "1.5.0",
          "state": {
            "_model_module": "@jupyter-widgets/controls",
            "_model_module_version": "1.5.0",
            "_model_name": "DescriptionStyleModel",
            "_view_count": null,
            "_view_module": "@jupyter-widgets/base",
            "_view_module_version": "1.2.0",
            "_view_name": "StyleView",
            "description_width": ""
          }
        },
        "151d3e666e5c41d0b9c6a72ffb4b74c9": {
          "model_module": "@jupyter-widgets/controls",
          "model_name": "HBoxModel",
          "model_module_version": "1.5.0",
          "state": {
            "_dom_classes": [],
            "_model_module": "@jupyter-widgets/controls",
            "_model_module_version": "1.5.0",
            "_model_name": "HBoxModel",
            "_view_count": null,
            "_view_module": "@jupyter-widgets/controls",
            "_view_module_version": "1.5.0",
            "_view_name": "HBoxView",
            "box_style": "",
            "children": [
              "IPY_MODEL_4a5757e9491944149a532ca92bf7c4f1",
              "IPY_MODEL_48306284ae4344e284dfb1a58d3ca11d",
              "IPY_MODEL_5b887a4fc10949e8afdac8db4aa58f86"
            ],
            "layout": "IPY_MODEL_c80d2b03ca894c6682cb37c129bc0aab"
          }
        },
        "4a5757e9491944149a532ca92bf7c4f1": {
          "model_module": "@jupyter-widgets/controls",
          "model_name": "HTMLModel",
          "model_module_version": "1.5.0",
          "state": {
            "_dom_classes": [],
            "_model_module": "@jupyter-widgets/controls",
            "_model_module_version": "1.5.0",
            "_model_name": "HTMLModel",
            "_view_count": null,
            "_view_module": "@jupyter-widgets/controls",
            "_view_module_version": "1.5.0",
            "_view_name": "HTMLView",
            "description": "",
            "description_tooltip": null,
            "layout": "IPY_MODEL_0c3f3eae60f8407c83b8e1c8cca248a8",
            "placeholder": "​",
            "style": "IPY_MODEL_69b4ad7ff6334d2a8248992f55952c67",
            "value": "tokenizer.model: 100%"
          }
        },
        "48306284ae4344e284dfb1a58d3ca11d": {
          "model_module": "@jupyter-widgets/controls",
          "model_name": "FloatProgressModel",
          "model_module_version": "1.5.0",
          "state": {
            "_dom_classes": [],
            "_model_module": "@jupyter-widgets/controls",
            "_model_module_version": "1.5.0",
            "_model_name": "FloatProgressModel",
            "_view_count": null,
            "_view_module": "@jupyter-widgets/controls",
            "_view_module_version": "1.5.0",
            "_view_name": "ProgressView",
            "bar_style": "success",
            "description": "",
            "description_tooltip": null,
            "layout": "IPY_MODEL_968cd4a04a534ef0bf8ef0582bf566bb",
            "max": 493443,
            "min": 0,
            "orientation": "horizontal",
            "style": "IPY_MODEL_f26b09ec00184b9e888ae33c6bd2249e",
            "value": 493443
          }
        },
        "5b887a4fc10949e8afdac8db4aa58f86": {
          "model_module": "@jupyter-widgets/controls",
          "model_name": "HTMLModel",
          "model_module_version": "1.5.0",
          "state": {
            "_dom_classes": [],
            "_model_module": "@jupyter-widgets/controls",
            "_model_module_version": "1.5.0",
            "_model_name": "HTMLModel",
            "_view_count": null,
            "_view_module": "@jupyter-widgets/controls",
            "_view_module_version": "1.5.0",
            "_view_name": "HTMLView",
            "description": "",
            "description_tooltip": null,
            "layout": "IPY_MODEL_8ac265e0c3c9433486d308881f4ab487",
            "placeholder": "​",
            "style": "IPY_MODEL_ba23625a27fc47aebbc2429676342bdb",
            "value": " 493k/493k [00:01&lt;00:00, 104kB/s]"
          }
        },
        "c80d2b03ca894c6682cb37c129bc0aab": {
          "model_module": "@jupyter-widgets/base",
          "model_name": "LayoutModel",
          "model_module_version": "1.2.0",
          "state": {
            "_model_module": "@jupyter-widgets/base",
            "_model_module_version": "1.2.0",
            "_model_name": "LayoutModel",
            "_view_count": null,
            "_view_module": "@jupyter-widgets/base",
            "_view_module_version": "1.2.0",
            "_view_name": "LayoutView",
            "align_content": null,
            "align_items": null,
            "align_self": null,
            "border": null,
            "bottom": null,
            "display": null,
            "flex": null,
            "flex_flow": null,
            "grid_area": null,
            "grid_auto_columns": null,
            "grid_auto_flow": null,
            "grid_auto_rows": null,
            "grid_column": null,
            "grid_gap": null,
            "grid_row": null,
            "grid_template_areas": null,
            "grid_template_columns": null,
            "grid_template_rows": null,
            "height": null,
            "justify_content": null,
            "justify_items": null,
            "left": null,
            "margin": null,
            "max_height": null,
            "max_width": null,
            "min_height": null,
            "min_width": null,
            "object_fit": null,
            "object_position": null,
            "order": null,
            "overflow": null,
            "overflow_x": null,
            "overflow_y": null,
            "padding": null,
            "right": null,
            "top": null,
            "visibility": null,
            "width": null
          }
        },
        "0c3f3eae60f8407c83b8e1c8cca248a8": {
          "model_module": "@jupyter-widgets/base",
          "model_name": "LayoutModel",
          "model_module_version": "1.2.0",
          "state": {
            "_model_module": "@jupyter-widgets/base",
            "_model_module_version": "1.2.0",
            "_model_name": "LayoutModel",
            "_view_count": null,
            "_view_module": "@jupyter-widgets/base",
            "_view_module_version": "1.2.0",
            "_view_name": "LayoutView",
            "align_content": null,
            "align_items": null,
            "align_self": null,
            "border": null,
            "bottom": null,
            "display": null,
            "flex": null,
            "flex_flow": null,
            "grid_area": null,
            "grid_auto_columns": null,
            "grid_auto_flow": null,
            "grid_auto_rows": null,
            "grid_column": null,
            "grid_gap": null,
            "grid_row": null,
            "grid_template_areas": null,
            "grid_template_columns": null,
            "grid_template_rows": null,
            "height": null,
            "justify_content": null,
            "justify_items": null,
            "left": null,
            "margin": null,
            "max_height": null,
            "max_width": null,
            "min_height": null,
            "min_width": null,
            "object_fit": null,
            "object_position": null,
            "order": null,
            "overflow": null,
            "overflow_x": null,
            "overflow_y": null,
            "padding": null,
            "right": null,
            "top": null,
            "visibility": null,
            "width": null
          }
        },
        "69b4ad7ff6334d2a8248992f55952c67": {
          "model_module": "@jupyter-widgets/controls",
          "model_name": "DescriptionStyleModel",
          "model_module_version": "1.5.0",
          "state": {
            "_model_module": "@jupyter-widgets/controls",
            "_model_module_version": "1.5.0",
            "_model_name": "DescriptionStyleModel",
            "_view_count": null,
            "_view_module": "@jupyter-widgets/base",
            "_view_module_version": "1.2.0",
            "_view_name": "StyleView",
            "description_width": ""
          }
        },
        "968cd4a04a534ef0bf8ef0582bf566bb": {
          "model_module": "@jupyter-widgets/base",
          "model_name": "LayoutModel",
          "model_module_version": "1.2.0",
          "state": {
            "_model_module": "@jupyter-widgets/base",
            "_model_module_version": "1.2.0",
            "_model_name": "LayoutModel",
            "_view_count": null,
            "_view_module": "@jupyter-widgets/base",
            "_view_module_version": "1.2.0",
            "_view_name": "LayoutView",
            "align_content": null,
            "align_items": null,
            "align_self": null,
            "border": null,
            "bottom": null,
            "display": null,
            "flex": null,
            "flex_flow": null,
            "grid_area": null,
            "grid_auto_columns": null,
            "grid_auto_flow": null,
            "grid_auto_rows": null,
            "grid_column": null,
            "grid_gap": null,
            "grid_row": null,
            "grid_template_areas": null,
            "grid_template_columns": null,
            "grid_template_rows": null,
            "height": null,
            "justify_content": null,
            "justify_items": null,
            "left": null,
            "margin": null,
            "max_height": null,
            "max_width": null,
            "min_height": null,
            "min_width": null,
            "object_fit": null,
            "object_position": null,
            "order": null,
            "overflow": null,
            "overflow_x": null,
            "overflow_y": null,
            "padding": null,
            "right": null,
            "top": null,
            "visibility": null,
            "width": null
          }
        },
        "f26b09ec00184b9e888ae33c6bd2249e": {
          "model_module": "@jupyter-widgets/controls",
          "model_name": "ProgressStyleModel",
          "model_module_version": "1.5.0",
          "state": {
            "_model_module": "@jupyter-widgets/controls",
            "_model_module_version": "1.5.0",
            "_model_name": "ProgressStyleModel",
            "_view_count": null,
            "_view_module": "@jupyter-widgets/base",
            "_view_module_version": "1.2.0",
            "_view_name": "StyleView",
            "bar_color": null,
            "description_width": ""
          }
        },
        "8ac265e0c3c9433486d308881f4ab487": {
          "model_module": "@jupyter-widgets/base",
          "model_name": "LayoutModel",
          "model_module_version": "1.2.0",
          "state": {
            "_model_module": "@jupyter-widgets/base",
            "_model_module_version": "1.2.0",
            "_model_name": "LayoutModel",
            "_view_count": null,
            "_view_module": "@jupyter-widgets/base",
            "_view_module_version": "1.2.0",
            "_view_name": "LayoutView",
            "align_content": null,
            "align_items": null,
            "align_self": null,
            "border": null,
            "bottom": null,
            "display": null,
            "flex": null,
            "flex_flow": null,
            "grid_area": null,
            "grid_auto_columns": null,
            "grid_auto_flow": null,
            "grid_auto_rows": null,
            "grid_column": null,
            "grid_gap": null,
            "grid_row": null,
            "grid_template_areas": null,
            "grid_template_columns": null,
            "grid_template_rows": null,
            "height": null,
            "justify_content": null,
            "justify_items": null,
            "left": null,
            "margin": null,
            "max_height": null,
            "max_width": null,
            "min_height": null,
            "min_width": null,
            "object_fit": null,
            "object_position": null,
            "order": null,
            "overflow": null,
            "overflow_x": null,
            "overflow_y": null,
            "padding": null,
            "right": null,
            "top": null,
            "visibility": null,
            "width": null
          }
        },
        "ba23625a27fc47aebbc2429676342bdb": {
          "model_module": "@jupyter-widgets/controls",
          "model_name": "DescriptionStyleModel",
          "model_module_version": "1.5.0",
          "state": {
            "_model_module": "@jupyter-widgets/controls",
            "_model_module_version": "1.5.0",
            "_model_name": "DescriptionStyleModel",
            "_view_count": null,
            "_view_module": "@jupyter-widgets/base",
            "_view_module_version": "1.2.0",
            "_view_name": "StyleView",
            "description_width": ""
          }
        }
      }
    }
  },
  "nbformat": 4,
  "nbformat_minor": 0
}